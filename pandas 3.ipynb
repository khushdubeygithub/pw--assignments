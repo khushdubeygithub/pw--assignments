{
 "cells": [
  {
   "cell_type": "markdown",
   "id": "b300ba01",
   "metadata": {},
   "source": [
    "Q1. To print the data present in the second row of the DataFrame df, you can use either .iloc[] or .loc[] function as follows:"
   ]
  },
  {
   "cell_type": "code",
   "execution_count": 3,
   "id": "d2aed9ca",
   "metadata": {},
   "outputs": [
    {
     "name": "stdout",
     "output_type": "stream",
     "text": [
      "Name       Bob\n",
      "Age         30\n",
      "Gender    Male\n",
      "Name: 1, dtype: object\n",
      "Name       Bob\n",
      "Age         30\n",
      "Gender    Male\n",
      "Name: 1, dtype: object\n"
     ]
    }
   ],
   "source": [
    "import pandas as pd\n",
    "\n",
    "# Data for the DataFrame\n",
    "data = {'Name': ['Alice', 'Bob', 'Claire'],\n",
    "        'Age': [25, 30, 27],\n",
    "        'Gender': ['Female', 'Male', 'Female']}\n",
    "\n",
    "# Create the DataFrame\n",
    "df = pd.DataFrame(data)\n",
    "\n",
    "# Using iloc to access the second row\n",
    "print(df.iloc[1])\n",
    "\n",
    "# Using loc to access the second row\n",
    "print(df.loc[1])\n"
   ]
  },
  {
   "cell_type": "markdown",
   "id": "d4161d97",
   "metadata": {},
   "source": [
    "Q2.The difference between the functions loc and iloc in pandas.DataFrame is how they are used to access rows and columns:\n",
    "\n",
    "loc: Uses labels or index names to access rows and columns. It is primarily label-based and works with row and column labels.\n",
    "iloc: Uses integer-based indexing to access rows and columns. It is primarily integer position-based and works with row and column positions.\n",
    "For example:"
   ]
  },
  {
   "cell_type": "code",
   "execution_count": 4,
   "id": "a0046f7d",
   "metadata": {},
   "outputs": [
    {
     "name": "stdout",
     "output_type": "stream",
     "text": [
      "Name       Bob\n",
      "Age         30\n",
      "Gender    Male\n",
      "Name: 1, dtype: object\n",
      "Name       Bob\n",
      "Age         30\n",
      "Gender    Male\n",
      "Name: 1, dtype: object\n"
     ]
    }
   ],
   "source": [
    "# Using loc\n",
    "print(df.loc[1])  # Access the row with label/index name 1\n",
    "\n",
    "# Using iloc\n",
    "print(df.iloc[1])  # Access the row with integer position 1\n"
   ]
  },
  {
   "cell_type": "markdown",
   "id": "0f63e89c",
   "metadata": {},
   "source": [
    "Q3. To reindex the given DataFrame df using the list [3, 0, 1, 2] and store it in the variable new_df, you can use the reindex() function as follows"
   ]
  },
  {
   "cell_type": "code",
   "execution_count": 5,
   "id": "c0f35b11",
   "metadata": {},
   "outputs": [],
   "source": [
    "reindex = [3, 0, 1, 2]\n",
    "new_df = df.reindex(reindex)\n"
   ]
  },
  {
   "cell_type": "code",
   "execution_count": 6,
   "id": "db47253e",
   "metadata": {},
   "outputs": [
    {
     "name": "stdout",
     "output_type": "stream",
     "text": [
      "Name      Claire\n",
      "Age         27.0\n",
      "Gender    Female\n",
      "Name: 2, dtype: object\n",
      "Name       Bob\n",
      "Age       30.0\n",
      "Gender    Male\n",
      "Name: 1, dtype: object\n"
     ]
    }
   ],
   "source": [
    "print(new_df.loc[2])\n",
    "print(new_df.iloc[2])\n"
   ]
  },
  {
   "cell_type": "markdown",
   "id": "bd669a28",
   "metadata": {},
   "source": [
    "Q4. To find the mean of each and every column present in the DataFrame df1, you can use the mean() function on the DataFrame:"
   ]
  },
  {
   "cell_type": "code",
   "execution_count": 8,
   "id": "bd7026e6",
   "metadata": {},
   "outputs": [
    {
     "name": "stdout",
     "output_type": "stream",
     "text": [
      "column_1    0.367104\n",
      "column_2    0.334614\n",
      "column_3    0.341966\n",
      "column_4    0.485167\n",
      "column_5    0.540367\n",
      "column_6    0.514063\n",
      "dtype: float64\n"
     ]
    }
   ],
   "source": [
    "import pandas as pd\n",
    "import numpy as np\n",
    "\n",
    "# Data for the DataFrame\n",
    "columns = ['column_1', 'column_2', 'column_3', 'column_4', 'column_5', 'column_6']\n",
    "indices = [1, 2, 3, 4, 5, 6]\n",
    "data = np.random.rand(6, 6)\n",
    "\n",
    "# Create the DataFrame\n",
    "df1 = pd.DataFrame(data, columns=columns, index=indices)\n",
    "\n",
    "# Mean of each column\n",
    "mean_of_columns = df1.mean()\n",
    "print(mean_of_columns)\n",
    "\n"
   ]
  },
  {
   "cell_type": "code",
   "execution_count": 9,
   "id": "9f934c1c",
   "metadata": {},
   "outputs": [
    {
     "name": "stdout",
     "output_type": "stream",
     "text": [
      "0.32537879060614244\n"
     ]
    }
   ],
   "source": [
    "# Standard deviation of column 'column_2'\n",
    "std_column_2 = df1['column_2'].std()\n",
    "print(std_column_2)\n"
   ]
  },
  {
   "cell_type": "markdown",
   "id": "7cc03cb4",
   "metadata": {},
   "source": [
    "Q5. If you replace the data present in the second row of column 'column_2' with a string variable, it will raise an error because the data type of column 'column_2' is expected to be numeric (e.g., float or int), and pandas will not be able to calculate the mean with string values.\n",
    "\n",
    "For example, if you try to replace the second row of column 'column_2' with a string:"
   ]
  },
  {
   "cell_type": "code",
   "execution_count": 11,
   "id": "a6f0d17d",
   "metadata": {},
   "outputs": [
    {
     "name": "stdout",
     "output_type": "stream",
     "text": [
      "0.6061926261105203\n"
     ]
    }
   ],
   "source": [
    "import pandas as pd\n",
    "import numpy as np\n",
    "\n",
    "# Data for the DataFrame\n",
    "columns = ['column_1', 'column_2', 'column_3', 'column_4', 'column_5', 'column_6']\n",
    "indices = [1, 2, 3, 4, 5, 6]\n",
    "data = np.random.rand(6, 6)\n",
    "\n",
    "# Create the DataFrame\n",
    "df1 = pd.DataFrame(data, columns=columns, index=indices)\n",
    "\n",
    "# Replace the data in the second row of 'column_2' with a string\n",
    "df1.loc[2, 'column_2'] = 'abc'\n",
    "\n",
    "# Convert the 'column_2' to numeric data type\n",
    "df1['column_2'] = pd.to_numeric(df1['column_2'], errors='coerce')\n",
    "\n",
    "# Calculate the mean of 'column_2'\n",
    "mean_column_2 = df1['column_2'].mean()\n",
    "print(mean_column_2)\n",
    "\n"
   ]
  },
  {
   "cell_type": "markdown",
   "id": "242bd80d",
   "metadata": {},
   "source": [
    "Q6. In pandas, window functions are used for performing calculations over a sliding window of data points in a time series or a DataFrame. Window functions help to analyze and process data in rolling or expanding windows.\n",
    "\n",
    "Types of window functions in pandas:\n",
    "\n",
    "Rolling: Provides the ability to perform calculations over a fixed-size window of data points.\n",
    "Expanding: Calculates statistics over an expanding window, where the size of the window increases with each data point.\n",
    "Exponential Moving Average (EMA): Computes the exponential moving average over a given window."
   ]
  },
  {
   "cell_type": "markdown",
   "id": "497acd94",
   "metadata": {},
   "source": [
    "Q7. To print only the current month and year at the time of answering this question, you can use the datetime module in pandas:"
   ]
  },
  {
   "cell_type": "code",
   "execution_count": 13,
   "id": "8d80dccd",
   "metadata": {},
   "outputs": [
    {
     "name": "stdout",
     "output_type": "stream",
     "text": [
      "Current Month: 7\n",
      "Current Year: 2023\n"
     ]
    }
   ],
   "source": [
    "import pandas as pd\n",
    "\n",
    "# Get the current date and time\n",
    "current_datetime = pd.Timestamp.now()\n",
    "\n",
    "# Print the current month and year\n",
    "print(f\"Current Month: {current_datetime.month}\")\n",
    "print(f\"Current Year: {current_datetime.year}\")\n"
   ]
  },
  {
   "cell_type": "markdown",
   "id": "f776f379",
   "metadata": {},
   "source": [
    "Q8. Here's a Python program that takes two dates as input and calculates the difference between them in days, hours, and minutes using Pandas timedelta:"
   ]
  },
  {
   "cell_type": "code",
   "execution_count": 14,
   "id": "681b9b33",
   "metadata": {},
   "outputs": [
    {
     "name": "stdout",
     "output_type": "stream",
     "text": [
      "Enter the start date (YYYY-MM-DD): 2021-09-12\n",
      "Enter the end date (YYYY-MM-DD): 2021-10-12\n",
      "Difference: 30 days, 0 hours, 0 minutes\n"
     ]
    }
   ],
   "source": [
    "import pandas as pd\n",
    "\n",
    "# Function to calculate the difference between two dates\n",
    "def date_difference(start_date, end_date):\n",
    "    start_datetime = pd.to_datetime(start_date)\n",
    "    end_datetime = pd.to_datetime(end_date)\n",
    "    \n",
    "    time_difference = end_datetime - start_datetime\n",
    "    days = time_difference.days\n",
    "    hours = time_difference.seconds // 3600\n",
    "    minutes = (time_difference.seconds // 60) % 60\n",
    "    \n",
    "    return days, hours, minutes\n",
    "\n",
    "# Prompt user to enter dates\n",
    "start_date = input(\"Enter the start date (YYYY-MM-DD): \")\n",
    "end_date = input(\"Enter the end date (YYYY-MM-DD): \")\n",
    "\n",
    "# Calculate the difference\n",
    "days, hours, minutes = date_difference(start_date, end_date)\n",
    "\n",
    "# Display the result\n",
    "print(f\"Difference: {days} days, {hours} hours, {minutes} minutes\")\n"
   ]
  },
  {
   "cell_type": "markdown",
   "id": "6963e1fb",
   "metadata": {},
   "source": [
    "To write a Python program that reads a CSV file containing categorical data and converts a specified column to a categorical data type, you can use the pandas read_csv() function and then convert the column to a categorical data type using the astype() function. Here's an example"
   ]
  },
  {
   "cell_type": "code",
   "execution_count": null,
   "id": "8066d47d",
   "metadata": {},
   "outputs": [],
   "source": [
    "import pandas as pd\n",
    "\n",
    "# Function to convert a specified column to categorical data type\n",
    "def convert_to_categorical(file_path, column_name, category_order):\n",
    "    # Read the CSV file into a DataFrame\n",
    "    df = pd.read_csv(file_path)\n",
    "\n",
    "    # Convert the specified column to a categorical data type\n",
    "    df[column_name] = df[column_name].astype('category', categories=category_order, ordered=True)\n",
    "\n",
    "    # Sort the DataFrame based on the specified column\n",
    "    df.sort_values(by=column_name, inplace=True)\n",
    "\n",
    "    return df\n",
    "\n",
    "# Prompt user to enter file path, column name, and category order\n",
    "file_path = input(\"Enter the file path: \")\n",
    "column_name = input(\"Enter the column name: \")\n",
    "category_order = input(\"Enter the category order (comma-separated): \").split(',')\n",
    "\n",
    "# Call the function and display the sorted data\n",
    "sorted_df = convert_to_categorical(file_path, column_name, category_order)\n",
    "print(sorted_df)\n"
   ]
  },
  {
   "cell_type": "markdown",
   "id": "88d336bc",
   "metadata": {},
   "source": [
    "Q10. To write a Python program that reads a CSV file containing sales data for different products and visualizes the data using a stacked bar chart to show the sales of each product category over time, you can use the pandas read_csv() function to read the CSV file and the plot() function with the kind='bar' parameter to create the stacked bar chart. Here's an example:\n",
    "\n"
   ]
  },
  {
   "cell_type": "code",
   "execution_count": null,
   "id": "f1558f53",
   "metadata": {},
   "outputs": [],
   "source": [
    "import pandas as pd\n",
    "import matplotlib.pyplot as plt\n",
    "\n",
    "# Function to visualize sales data using a stacked bar chart\n",
    "def visualize_sales_data(file_path):\n",
    "    # Read the CSV file into a DataFrame\n",
    "    df = pd.read_csv(file_path)\n",
    "\n",
    "    # Set the 'Date' column as the index\n",
    "    df['Date'] = pd.to_datetime(df['Date'])\n",
    "    df.set_index('Date', inplace=True)\n",
    "\n",
    "    # Plot the stacked bar chart\n",
    "    df.plot(kind='bar', stacked=True, figsize=(10, 6))\n",
    "    plt.xlabel('Date')\n",
    "    plt.ylabel('Sales')\n",
    "    plt.title('Sales Data - Stacked Bar Chart')\n",
    "    plt.show()\n",
    "\n",
    "# Prompt user to enter file path\n",
    "file_path = input(\"Enter the file path: \")\n",
    "\n",
    "# Call the function to visualize the data\n",
    "visualize_sales_data(file_path)\n"
   ]
  },
  {
   "cell_type": "markdown",
   "id": "4a15640f",
   "metadata": {},
   "source": [
    "Q11. To write a Python program that reads a CSV file containing student data and calculates the mean, median, and mode of the test scores, you can use the pandas read_csv() function to read the CSV file, and then use the mean(), median(), and mode() functions to calculate the respective statistics. Here's an example:"
   ]
  },
  {
   "cell_type": "code",
   "execution_count": null,
   "id": "7bc8c698",
   "metadata": {},
   "outputs": [],
   "source": [
    "import pandas as pd\n",
    "\n",
    "# Function to calculate mean, median, and mode of test scores\n",
    "def calculate_statistics(file_path):\n",
    "    # Read the CSV file into a DataFrame\n",
    "    df = pd.read_csv(file_path)\n",
    "\n",
    "    # Calculate the mean, median, and mode of the test scores\n",
    "    mean_score = df['Test Score'].mean()\n",
    "    median_score = df['Test Score'].median()\n",
    "    mode_score = df['Test Score'].mode()\n",
    "\n",
    "    # Display the results in a table\n",
    "    statistics_table = pd.DataFrame({'Statistic': ['Mean', 'Median', 'Mode'],\n",
    "                                     'Value': [mean_score, median_score, ', '.join(map(str, mode_score))]})\n",
    "\n",
    "    print(statistics_table)\n",
    "\n",
    "# Prompt user to enter file path\n",
    "file_path = input(\"Enter the file path: \")\n",
    "\n",
    "# Call the function to calculate and display statistics\n",
    "calculate_statistics(file_path)\n"
   ]
  },
  {
   "cell_type": "code",
   "execution_count": null,
   "id": "686db9fe",
   "metadata": {},
   "outputs": [],
   "source": []
  }
 ],
 "metadata": {
  "kernelspec": {
   "display_name": "Python 3 (ipykernel)",
   "language": "python",
   "name": "python3"
  },
  "language_info": {
   "codemirror_mode": {
    "name": "ipython",
    "version": 3
   },
   "file_extension": ".py",
   "mimetype": "text/x-python",
   "name": "python",
   "nbconvert_exporter": "python",
   "pygments_lexer": "ipython3",
   "version": "3.11.4"
  }
 },
 "nbformat": 4,
 "nbformat_minor": 5
}
