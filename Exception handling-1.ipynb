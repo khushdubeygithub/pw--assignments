{
 "cells": [
  {
   "cell_type": "markdown",
   "id": "c35c4e2e",
   "metadata": {},
   "source": [
    "Q1. What is an Exception in python? Write the difference between Exceptions and  syntax error"
   ]
  },
  {
   "cell_type": "markdown",
   "id": "1d729f64",
   "metadata": {},
   "source": [
    "In Python, an exception is an event that occurs during the execution of a program that disrupts the normal flow of the program's instructions. When an exceptional condition arises, an exception object is created and the normal flow of the program is interrupted. The exception is then propagated up the call stack until it is handled by an exception handler or until it reaches the top level of the program, causing the program to terminate.\n",
    "\n",
    "Exceptions are used to handle errors or exceptional conditions that may occur during the execution of a program. They allow you to gracefully handle and recover from errors, rather than abruptly terminating the program. Exceptions provide a way to separate the error-handling code from the normal code, making the program more robust and maintainable.\n",
    "\n",
    "Syntax errors, on the other hand, are errors that occur when the Python interpreter encounters code that violates the language's grammar rules. These errors are typically caused by mistakes in the code's syntax, such as misspelled keywords, missing or misplaced punctuation, or incorrect indentation. Syntax errors prevent the program from being executed at all.\n",
    "\n",
    "The key difference between exceptions and syntax errors is that exceptions occur during the execution of a program, while syntax errors are detected by the Python interpreter before the program is executed. Exceptions are a result of runtime errors or exceptional conditions that occur while the program is running, such as division by zero, accessing a non-existent file, or trying to access an invalid index in a list. Syntax errors, on the other hand, are caused by mistakes in the code's syntax and can be identified by the interpreter during the parsing phase, before the program starts executing.\n",
    "\n",
    "In summary, exceptions are runtime errors or exceptional conditions that occur during program execution and can be handled or propagated to higher levels, while syntax errors are mistakes in the code's syntax that prevent the program from being executed at all."
   ]
  },
  {
   "cell_type": "markdown",
   "id": "47aecbba",
   "metadata": {},
   "source": [
    "Q2. what happens when an exception is not handled ? explain with  example"
   ]
  },
  {
   "cell_type": "markdown",
   "id": "7049909b",
   "metadata": {},
   "source": [
    "When an exception is not handled in a program, it results in an unhandled exception. When an unhandled exception occurs, the normal flow of the program is interrupted, and an error message is displayed to the user. The program terminates abruptly, and any remaining code after the exception is not executed."
   ]
  },
  {
   "cell_type": "markdown",
   "id": "14c06a6a",
   "metadata": {},
   "source": [
    "def divide_numbers(a,b):\n",
    "    \n",
    "    result = a / b\n",
    "    \n",
    "    return result\n",
    "num1 = 10\n",
    "num2 =  0\n",
    "result = divide_numbers(num1, num2)\n",
    "print(\"Result:\", result)\n",
    "\n",
    "#In this example, the divide_numbers function attempts to divide two numbers. However, if the second number (b) is 0, it will raise a ZeroDivisionError exception because dividing by zero is not allowed.\n",
    "\n",
    "#If this code is executed as is, the program will encounter a ZeroDivisionError and terminate with an error message:"
   ]
  },
  {
   "cell_type": "code",
   "execution_count": 3,
   "id": "c2ded835",
   "metadata": {},
   "outputs": [
    {
     "name": "stdout",
     "output_type": "stream",
     "text": [
      "Error: Division by zero is not allowed.\n"
     ]
    }
   ],
   "source": [
    "def divide_numbers(a, b):\n",
    "    try:\n",
    "        result = a / b\n",
    "        return result\n",
    "    except ZeroDivisionError:\n",
    "        print(\"Error: Division by zero is not allowed.\")\n",
    "\n",
    "# Example usage\n",
    "num1 = 10\n",
    "num2 = 0\n",
    "\n",
    "result = divide_numbers(num1, num2)\n",
    "if result is not None:\n",
    "    print(\"Result:\", result)\n",
    "\n"
   ]
  },
  {
   "cell_type": "markdown",
   "id": "b048b56d",
   "metadata": {},
   "source": [
    "Q3. which python statement are used to catch and handle exception ? explain with example"
   ]
  },
  {
   "cell_type": "markdown",
   "id": "3cf91454",
   "metadata": {},
   "source": [
    " the try-except statement is used to catch and handle exceptions. It allows you to specify a block of code that may raise an exception, and define how to handle the exception if it occurs."
   ]
  },
  {
   "cell_type": "markdown",
   "id": "f7468ea9",
   "metadata": {},
   "source": [
    "try:\n",
    "    # Block of code that may raise an exception\n",
    "    except ExceptionType:\n",
    "    # Code to handle the exception\n"
   ]
  },
  {
   "cell_type": "code",
   "execution_count": 4,
   "id": "bdfae356",
   "metadata": {},
   "outputs": [
    {
     "name": "stdout",
     "output_type": "stream",
     "text": [
      "Error: Division by zero is not allowed.\n"
     ]
    }
   ],
   "source": [
    "def divide_numbers(a, b):\n",
    "    try:\n",
    "        result = a / b\n",
    "        return result\n",
    "    except ZeroDivisionError:\n",
    "        print(\"Error: Division by zero is not allowed.\")\n",
    "\n",
    "# Example usage\n",
    "num1 = 10\n",
    "num2 = 0\n",
    "\n",
    "result = divide_numbers(num1, num2)\n",
    "if result is not None:\n",
    "    print(\"Result:\", result)\n"
   ]
  },
  {
   "cell_type": "markdown",
   "id": "6b60be20",
   "metadata": {},
   "source": [
    "Q4. explain with example \n",
    "try  & else\n",
    "finally \n",
    "raise"
   ]
  },
  {
   "cell_type": "markdown",
   "id": "d387bcab",
   "metadata": {},
   "source": [
    "# try and else:\n",
    "The else block is used in conjunction with the try-except statement to specify a block of code that should be executed if no exceptions are raised within the try block. It allows you to separate the code that may raise an exception from the code that should be executed only when no exceptions occur"
   ]
  },
  {
   "cell_type": "code",
   "execution_count": 7,
   "id": "5e5f7420",
   "metadata": {},
   "outputs": [
    {
     "name": "stdout",
     "output_type": "stream",
     "text": [
      "Enter a number: 6\n",
      "Enter another number: 4\n",
      "The result of division is: 1.5\n"
     ]
    }
   ],
   "source": [
    "try:\n",
    "    num1 = int(input(\"Enter a number: \"))\n",
    "    num2 = int(input(\"Enter another number: \"))\n",
    "    result = num1 / num2\n",
    "except ValueError:\n",
    "    print(\"Error: Invalid input. Please enter a valid number.\")\n",
    "except ZeroDivisionError:\n",
    "    print(\"Error: Division by zero is not allowed.\")\n",
    "else:\n",
    "    print(\"The result of division is:\", result)\n"
   ]
  },
  {
   "cell_type": "markdown",
   "id": "7752b1ea",
   "metadata": {},
   "source": [
    "# finally:\n",
    "The finally block is used to specify a block of code that should be executed regardless of whether an exception occurs or not. It ensures that certain cleanup or finalization tasks are performed, such as closing files, releasing resources, or restoring the program's state."
   ]
  },
  {
   "cell_type": "code",
   "execution_count": 8,
   "id": "843d21a0",
   "metadata": {},
   "outputs": [
    {
     "name": "stdout",
     "output_type": "stream",
     "text": [
      "Error: File not found.\n"
     ]
    },
    {
     "ename": "NameError",
     "evalue": "name 'file' is not defined",
     "output_type": "error",
     "traceback": [
      "\u001b[1;31m---------------------------------------------------------------------------\u001b[0m",
      "\u001b[1;31mNameError\u001b[0m                                 Traceback (most recent call last)",
      "Cell \u001b[1;32mIn[8], line 8\u001b[0m\n\u001b[0;32m      6\u001b[0m     \u001b[38;5;28mprint\u001b[39m(\u001b[38;5;124m\"\u001b[39m\u001b[38;5;124mError: File not found.\u001b[39m\u001b[38;5;124m\"\u001b[39m)\n\u001b[0;32m      7\u001b[0m \u001b[38;5;28;01mfinally\u001b[39;00m:\n\u001b[1;32m----> 8\u001b[0m     \u001b[43mfile\u001b[49m\u001b[38;5;241m.\u001b[39mclose()\n",
      "\u001b[1;31mNameError\u001b[0m: name 'file' is not defined"
     ]
    }
   ],
   "source": [
    "try:\n",
    "    file = open(\"data.txt\", \"r\")\n",
    "    data = file.read()\n",
    "    print(\"Data:\", data)\n",
    "except FileNotFoundError:\n",
    "    print(\"Error: File not found.\")\n",
    "finally:\n",
    "    file.close()  # Ensure the file is always closed, even if an exception occurred\n"
   ]
  },
  {
   "cell_type": "markdown",
   "id": "699068c1",
   "metadata": {},
   "source": [
    "# raise:\n",
    "The raise statement is used to manually raise an exception in Python. It allows you to generate and throw exceptions explicitly, based on certain conditions or requirements in your code"
   ]
  },
  {
   "cell_type": "code",
   "execution_count": 9,
   "id": "fc417c96",
   "metadata": {},
   "outputs": [
    {
     "ename": "ValueError",
     "evalue": "Error: Age must be 18 or above.",
     "output_type": "error",
     "traceback": [
      "\u001b[1;31m---------------------------------------------------------------------------\u001b[0m",
      "\u001b[1;31mValueError\u001b[0m                                Traceback (most recent call last)",
      "Cell \u001b[1;32mIn[9], line 4\u001b[0m\n\u001b[0;32m      1\u001b[0m age \u001b[38;5;241m=\u001b[39m \u001b[38;5;241m17\u001b[39m\n\u001b[0;32m      3\u001b[0m \u001b[38;5;28;01mif\u001b[39;00m age \u001b[38;5;241m<\u001b[39m \u001b[38;5;241m18\u001b[39m:\n\u001b[1;32m----> 4\u001b[0m     \u001b[38;5;28;01mraise\u001b[39;00m \u001b[38;5;167;01mValueError\u001b[39;00m(\u001b[38;5;124m\"\u001b[39m\u001b[38;5;124mError: Age must be 18 or above.\u001b[39m\u001b[38;5;124m\"\u001b[39m)\n\u001b[0;32m      5\u001b[0m \u001b[38;5;28;01melse\u001b[39;00m:\n\u001b[0;32m      6\u001b[0m     \u001b[38;5;28mprint\u001b[39m(\u001b[38;5;124m\"\u001b[39m\u001b[38;5;124mAccess granted. You are old enough.\u001b[39m\u001b[38;5;124m\"\u001b[39m)\n",
      "\u001b[1;31mValueError\u001b[0m: Error: Age must be 18 or above."
     ]
    }
   ],
   "source": [
    "age = 17\n",
    "\n",
    "if age < 18:\n",
    "    raise ValueError(\"Error: Age must be 18 or above.\")\n",
    "else:\n",
    "    print(\"Access granted. You are old enough.\")\n"
   ]
  },
  {
   "cell_type": "code",
   "execution_count": null,
   "id": "63af414f",
   "metadata": {},
   "outputs": [],
   "source": [
    "Q5. What are Custom Exceptions in python? What do we need Custom \n",
    " Exceptions? explain with  example "
   ]
  },
  {
   "cell_type": "markdown",
   "id": "2506c2b1",
   "metadata": {},
   "source": [
    "custom exceptions are user-defined exceptions that allow you to create your own types of exceptions to handle specific situations or errors in your code. While Python provides a wide range of built-in exceptions (e.g., ValueError, TypeError, FileNotFoundError)\n",
    "\n",
    "Custom exceptions are useful for the following reasons:\n",
    "\n",
    " Specific error handling\n",
    " \n",
    "Hierarchy and organization:\n",
    "\n",
    "   Documentation and communication \n",
    "   "
   ]
  },
  {
   "cell_type": "code",
   "execution_count": 11,
   "id": "6bd10d3a",
   "metadata": {},
   "outputs": [
    {
     "ename": "InsufficientBalanceError",
     "evalue": "Insufficient balance.",
     "output_type": "error",
     "traceback": [
      "\u001b[1;31m---------------------------------------------------------------------------\u001b[0m",
      "\u001b[1;31mInsufficientBalanceError\u001b[0m                  Traceback (most recent call last)",
      "Cell \u001b[1;32mIn[11], line 14\u001b[0m\n\u001b[0;32m     12\u001b[0m \u001b[38;5;66;03m# Example usage\u001b[39;00m\n\u001b[0;32m     13\u001b[0m balance \u001b[38;5;241m=\u001b[39m \u001b[38;5;241m100\u001b[39m\n\u001b[1;32m---> 14\u001b[0m \u001b[43mwithdraw\u001b[49m\u001b[43m(\u001b[49m\u001b[38;5;241;43m150\u001b[39;49m\u001b[43m,\u001b[49m\u001b[43m \u001b[49m\u001b[43mbalance\u001b[49m\u001b[43m)\u001b[49m\n",
      "Cell \u001b[1;32mIn[11], line 8\u001b[0m, in \u001b[0;36mwithdraw\u001b[1;34m(amount, balance)\u001b[0m\n\u001b[0;32m      6\u001b[0m \u001b[38;5;28;01mdef\u001b[39;00m \u001b[38;5;21mwithdraw\u001b[39m(amount, balance):\n\u001b[0;32m      7\u001b[0m     \u001b[38;5;28;01mif\u001b[39;00m amount \u001b[38;5;241m>\u001b[39m balance:\n\u001b[1;32m----> 8\u001b[0m         \u001b[38;5;28;01mraise\u001b[39;00m InsufficientBalanceError()\n\u001b[0;32m      9\u001b[0m     \u001b[38;5;28;01melse\u001b[39;00m:\n\u001b[0;32m     10\u001b[0m         \u001b[38;5;28mprint\u001b[39m(\u001b[38;5;124m\"\u001b[39m\u001b[38;5;124mWithdrawal successful. Remaining balance:\u001b[39m\u001b[38;5;124m\"\u001b[39m, balance \u001b[38;5;241m-\u001b[39m amount)\n",
      "\u001b[1;31mInsufficientBalanceError\u001b[0m: Insufficient balance."
     ]
    }
   ],
   "source": [
    "class InsufficientBalanceError(Exception):\n",
    "    def __init__(self, message=\"Insufficient balance.\"):\n",
    "        self.message = message\n",
    "        super().__init__(self.message)\n",
    "\n",
    "def withdraw(amount, balance):\n",
    "    if amount > balance:\n",
    "        raise InsufficientBalanceError()\n",
    "    else:\n",
    "        print(\"Withdrawal successful. Remaining balance:\", balance - amount)\n",
    "\n",
    "# Example usage\n",
    "balance = 100\n",
    "withdraw(150, balance)\n"
   ]
  },
  {
   "cell_type": "markdown",
   "id": "7c6936b5",
   "metadata": {},
   "source": [
    "Q6 create a custom exception class. use this class to handle an exceptio"
   ]
  },
  {
   "cell_type": "code",
   "execution_count": 10,
   "id": "0c9551fb",
   "metadata": {},
   "outputs": [
    {
     "name": "stdout",
     "output_type": "stream",
     "text": [
      "Exception occurred: Invalid data. Cannot process None.\n"
     ]
    }
   ],
   "source": [
    "class CustomException(Exception):\n",
    "    def __init__(self, message=\"This is a custom exception.\"):\n",
    "        self.message = message\n",
    "        super().__init__(self.message)\n",
    "\n",
    "def process_data(data):\n",
    "    if data is None:\n",
    "        raise CustomException(\"Invalid data. Cannot process None.\")\n",
    "\n",
    "# Example usage\n",
    "data = None\n",
    "\n",
    "try:\n",
    "    process_data(data)\n",
    "except CustomException as e:\n",
    "    print(\"Exception occurred:\", e.message)\n"
   ]
  },
  {
   "cell_type": "code",
   "execution_count": null,
   "id": "29a7eaab",
   "metadata": {},
   "outputs": [],
   "source": []
  },
  {
   "cell_type": "code",
   "execution_count": null,
   "id": "d31adb5e",
   "metadata": {},
   "outputs": [],
   "source": []
  },
  {
   "cell_type": "code",
   "execution_count": null,
   "id": "b9f61e04",
   "metadata": {},
   "outputs": [],
   "source": []
  }
 ],
 "metadata": {
  "kernelspec": {
   "display_name": "Python 3 (ipykernel)",
   "language": "python",
   "name": "python3"
  },
  "language_info": {
   "codemirror_mode": {
    "name": "ipython",
    "version": 3
   },
   "file_extension": ".py",
   "mimetype": "text/x-python",
   "name": "python",
   "nbconvert_exporter": "python",
   "pygments_lexer": "ipython3",
   "version": "3.10.9"
  }
 },
 "nbformat": 4,
 "nbformat_minor": 5
}
