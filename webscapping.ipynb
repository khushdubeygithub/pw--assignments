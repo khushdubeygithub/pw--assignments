{
 "cells": [
  {
   "cell_type": "code",
   "execution_count": 7,
   "id": "8a678b4d",
   "metadata": {},
   "outputs": [],
   "source": [
    "import requests\n",
    "from bs4 import BeautifulSoup as bs\n",
    "from urllib.request import urlopen\n",
    "import logging\n"
   ]
  },
  {
   "cell_type": "code",
   "execution_count": 8,
   "id": "30276e6e",
   "metadata": {},
   "outputs": [],
   "source": [
    "flipcart_url = \"https://www.flipkart.com/search?q=\" + \"redmi\""
   ]
  },
  {
   "cell_type": "code",
   "execution_count": 9,
   "id": "c53ba774",
   "metadata": {},
   "outputs": [
    {
     "data": {
      "text/plain": [
       "'https://www.flipkart.com/search?q=redmi'"
      ]
     },
     "execution_count": 9,
     "metadata": {},
     "output_type": "execute_result"
    }
   ],
   "source": [
    "flipcart_url"
   ]
  },
  {
   "cell_type": "code",
   "execution_count": 10,
   "id": "08a66520",
   "metadata": {},
   "outputs": [],
   "source": [
    "urlclient = urlopen(flipcart_url)"
   ]
  },
  {
   "cell_type": "code",
   "execution_count": 11,
   "id": "bba20ba4",
   "metadata": {},
   "outputs": [
    {
     "data": {
      "text/plain": [
       "<http.client.HTTPResponse at 0x1965a8203a0>"
      ]
     },
     "execution_count": 11,
     "metadata": {},
     "output_type": "execute_result"
    }
   ],
   "source": [
    "urlclient"
   ]
  },
  {
   "cell_type": "code",
   "execution_count": 12,
   "id": "93cd3db3",
   "metadata": {},
   "outputs": [],
   "source": [
    "flipcart_page = urlclient.read()"
   ]
  },
  {
   "cell_type": "code",
   "execution_count": 13,
   "id": "036d132b",
   "metadata": {},
   "outputs": [],
   "source": [
    "flipcart_html = bs(flipcart_page,'html.parser')"
   ]
  },
  {
   "cell_type": "code",
   "execution_count": 14,
   "id": "67b75912",
   "metadata": {},
   "outputs": [
    {
     "data": {
      "text/plain": [
       "'https://www.flipkart.com/apple-iphone-12-pro-gold-512-gb/p/itm157b3be191fd1?pid=MOBFWBYZGKFYVTWH&lid=LSTMOBFWBYZGKFYVTWHR65UKC&marketplace=FLIPKART&q=iphone12pro&store=tyy%2F4io&srno=s_1_2&otracker=search&iid=68136d77-b91a-42de-a358-1a7956c836a5.MOBFWBYZGKFYVTWH.SEARCH&ssid=ogmp5gq1740000001676967134521&qH=712933e6bd68e7b9'"
      ]
     },
     "execution_count": 14,
     "metadata": {},
     "output_type": "execute_result"
    }
   ],
   "source": [
    "\"https://www.flipkart.com/\"+\"apple-iphone-12-pro-gold-512-gb/p/itm157b3be191fd1?pid=MOBFWBYZGKFYVTWH&lid=LSTMOBFWBYZGKFYVTWHR65UKC&marketplace=FLIPKART&q=iphone12pro&store=tyy%2F4io&srno=s_1_2&otracker=search&iid=68136d77-b91a-42de-a358-1a7956c836a5.MOBFWBYZGKFYVTWH.SEARCH&ssid=ogmp5gq1740000001676967134521&qH=712933e6bd68e7b9\""
   ]
  },
  {
   "cell_type": "code",
   "execution_count": 15,
   "id": "82c3e298",
   "metadata": {},
   "outputs": [],
   "source": [
    "bigbox = flipcart_html.findAll(\"div\" , {\"class\":\"_1AtVbE col-12-12\"})"
   ]
  },
  {
   "cell_type": "code",
   "execution_count": 16,
   "id": "8ba8b707",
   "metadata": {},
   "outputs": [
    {
     "data": {
      "text/plain": [
       "29"
      ]
     },
     "execution_count": 16,
     "metadata": {},
     "output_type": "execute_result"
    }
   ],
   "source": [
    "len(bigbox)"
   ]
  },
  {
   "cell_type": "code",
   "execution_count": 18,
   "id": "71a8b624",
   "metadata": {},
   "outputs": [],
   "source": [
    "del bigbox[0:3]"
   ]
  },
  {
   "cell_type": "code",
   "execution_count": 19,
   "id": "54213c85",
   "metadata": {},
   "outputs": [],
   "source": [
    "productlink = \"https://www.flipkart.com\" +bigbox[3].div.div.div.a['href']"
   ]
  },
  {
   "cell_type": "code",
   "execution_count": 20,
   "id": "a4f889bd",
   "metadata": {},
   "outputs": [],
   "source": [
    "product_req = requests.get(productlink)"
   ]
  },
  {
   "cell_type": "code",
   "execution_count": 21,
   "id": "be826bdd",
   "metadata": {},
   "outputs": [
    {
     "data": {
      "text/plain": [
       "'https://www.flipkart.com/redmi-10-sunrise-orange-64-gb/p/itmae4c7ad2665f3?pid=MOBGMPHF9TDM2MM3&lid=LSTMOBGMPHF9TDM2MM39RM7JR&marketplace=FLIPKART&q=redmi&store=search.flipkart.com&spotlightTagId=FkPickId_search.flipkart.com&srno=s_1_6&otracker=search&fm=organic&iid=098c74da-8028-4231-9c31-c39d34669462.MOBGMPHF9TDM2MM3.SEARCH&ppt=None&ppn=None&ssid=yyj89p3gg00000001687365577491&qH=9b6bf0057c19bd94'"
      ]
     },
     "execution_count": 21,
     "metadata": {},
     "output_type": "execute_result"
    }
   ],
   "source": [
    "productlink"
   ]
  },
  {
   "cell_type": "code",
   "execution_count": 22,
   "id": "0f686dbd",
   "metadata": {},
   "outputs": [],
   "source": [
    "product_html = bs(product_req.text,'html.parser')"
   ]
  },
  {
   "cell_type": "code",
   "execution_count": 23,
   "id": "0936d692",
   "metadata": {},
   "outputs": [],
   "source": [
    "comment_box = product_html.find_all(\"div\",{\"class\" : \"_16PBlm\"})"
   ]
  },
  {
   "cell_type": "code",
   "execution_count": 24,
   "id": "2f9e76e1",
   "metadata": {},
   "outputs": [
    {
     "data": {
      "text/plain": [
       "11"
      ]
     },
     "execution_count": 24,
     "metadata": {},
     "output_type": "execute_result"
    }
   ],
   "source": [
    "len(comment_box)"
   ]
  },
  {
   "cell_type": "code",
   "execution_count": 25,
   "id": "d980e9e1",
   "metadata": {},
   "outputs": [
    {
     "name": "stdout",
     "output_type": "stream",
     "text": [
      "Rupam Dhara\n",
      "Mohd ashraf Mohd ashraf Zargar\n",
      "Soumadip Mondal\n",
      "Kuldeep Singh\n",
      "Rahul Dhochak\n",
      "Nilesh  Gaidhani\n",
      "Flipkart Customer\n",
      "Flipkart Customer\n",
      "nitish gaurav\n",
      "Deepak kumar Shrivastava\n"
     ]
    },
    {
     "ename": "AttributeError",
     "evalue": "'NoneType' object has no attribute 'div'",
     "output_type": "error",
     "traceback": [
      "\u001b[1;31m---------------------------------------------------------------------------\u001b[0m",
      "\u001b[1;31mAttributeError\u001b[0m                            Traceback (most recent call last)",
      "Cell \u001b[1;32mIn[25], line 2\u001b[0m\n\u001b[0;32m      1\u001b[0m \u001b[38;5;28;01mfor\u001b[39;00m i \u001b[38;5;129;01min\u001b[39;00m comment_box:\n\u001b[1;32m----> 2\u001b[0m     \u001b[38;5;28mprint\u001b[39m(\u001b[43mi\u001b[49m\u001b[38;5;241;43m.\u001b[39;49m\u001b[43mdiv\u001b[49m\u001b[38;5;241;43m.\u001b[39;49m\u001b[43mdiv\u001b[49m\u001b[38;5;241m.\u001b[39mfind_all(\u001b[38;5;124m'\u001b[39m\u001b[38;5;124mp\u001b[39m\u001b[38;5;124m'\u001b[39m,{\u001b[38;5;124m\"\u001b[39m\u001b[38;5;124mclass\u001b[39m\u001b[38;5;124m\"\u001b[39m:\u001b[38;5;124m\"\u001b[39m\u001b[38;5;124m_2sc7ZR _2V5EHH\u001b[39m\u001b[38;5;124m\"\u001b[39m})[\u001b[38;5;241m0\u001b[39m]\u001b[38;5;241m.\u001b[39mtext)\n",
      "\u001b[1;31mAttributeError\u001b[0m: 'NoneType' object has no attribute 'div'"
     ]
    }
   ],
   "source": [
    "for i in comment_box:\n",
    "    print(i.div.div.find_all('p',{\"class\":\"_2sc7ZR _2V5EHH\"})[0].text)"
   ]
  },
  {
   "cell_type": "code",
   "execution_count": 26,
   "id": "470f0a52",
   "metadata": {},
   "outputs": [
    {
     "name": "stdout",
     "output_type": "stream",
     "text": [
      "5\n",
      "5\n",
      "4\n",
      "5\n",
      "5\n",
      "4\n",
      "5\n",
      "5\n",
      "5\n",
      "5\n"
     ]
    },
    {
     "ename": "AttributeError",
     "evalue": "'NoneType' object has no attribute 'div'",
     "output_type": "error",
     "traceback": [
      "\u001b[1;31m---------------------------------------------------------------------------\u001b[0m",
      "\u001b[1;31mAttributeError\u001b[0m                            Traceback (most recent call last)",
      "Cell \u001b[1;32mIn[26], line 2\u001b[0m\n\u001b[0;32m      1\u001b[0m \u001b[38;5;28;01mfor\u001b[39;00m i \u001b[38;5;129;01min\u001b[39;00m comment_box:\n\u001b[1;32m----> 2\u001b[0m     \u001b[38;5;28mprint\u001b[39m(\u001b[43mi\u001b[49m\u001b[38;5;241;43m.\u001b[39;49m\u001b[43mdiv\u001b[49m\u001b[38;5;241;43m.\u001b[39;49m\u001b[43mdiv\u001b[49m\u001b[38;5;241m.\u001b[39mdiv\u001b[38;5;241m.\u001b[39mdiv\u001b[38;5;241m.\u001b[39mtext)\n",
      "\u001b[1;31mAttributeError\u001b[0m: 'NoneType' object has no attribute 'div'"
     ]
    }
   ],
   "source": [
    "for i in comment_box:\n",
    "    print(i.div.div.div.div.text)"
   ]
  },
  {
   "cell_type": "code",
   "execution_count": null,
   "id": "ebb3a58c",
   "metadata": {},
   "outputs": [],
   "source": [
    "for i in comment_box:\n",
    "    print(i.div.div.div.p.text)"
   ]
  },
  {
   "cell_type": "code",
   "execution_count": 27,
   "id": "47d9e3c7",
   "metadata": {},
   "outputs": [
    {
     "data": {
      "text/plain": [
       "'Good phone in this price range, battery backup good, camera ok ok, and performance very very good 🔥 I am mi love And very fast delivery Flipkart, thanks'"
      ]
     },
     "execution_count": 27,
     "metadata": {},
     "output_type": "execute_result"
    }
   ],
   "source": [
    "comment_box[0].div.div.find_all('div',{\"class\":''})[0].div.text"
   ]
  },
  {
   "cell_type": "code",
   "execution_count": 28,
   "id": "bfd94e71",
   "metadata": {},
   "outputs": [
    {
     "name": "stdout",
     "output_type": "stream",
     "text": [
      "Good phone in this price range, battery backup good, camera ok ok, and performance very very good 🔥 I am mi love And very fast delivery Flipkart, thanks\n",
      "Nice product nice design of phone camera quality is good and also nice phone\n",
      "Very nice mobile 🥳😊Performance is very good 😊Camera quality good 😊Good zooming colour boost ✨I love it😘Thank you Flipkart 😇✨\n",
      "Good phone very nice working and good performance nice look\n",
      "Mobile is best in this price rangeProcessor Qualcomm Snapdragon 680 is really powerful for multitasking and gamingCamera 📷 Night mode is amazing 🤩Battery life is outstanding fabulous performanceReal 6000 MahOverall excellent performance5 star for Flipkart services\n",
      "This phone camera is not good but you can use if you are a first phone buyerBattery is awesome after heavy use also not need to charge in a day Display also impresive in this segment HD+ 6.7inch quality was goodSpeaker is loud and clear no any problemPerformance is sometimes not good you can play candy crush game but frame drops are so high, I think I am using right now 90hz panel bcoz i feel poco M4 pro .Now your i first smartphone buyer this phone is great\n",
      "Better backup osm ans camere clarity is very good 😊 i am happy for this product bec this product is excellent and this budget price is good  very happy 😁\n",
      "Really amazing mobile.. Camera quality is very nice.. battery backup also good.. i am fully satisfied with this product.. Super fast delivery Thanks Flipkart..\n",
      "I m a regular customer of Mi ...redmi 10is awesome 👍. It's charging is very fast ...i m giving this review after 2 months ....i m satisfied with this ...plz go for this guys ..really awesome 👍 products...thanks Flipkart\n",
      "Awesome 😎 Product Redmi has made cool phone this phone camera clicks a photo with HDR which will rock . And performance is the main thing in redmi . Front camera is 🤳 5 mega pixel but comes like 18 mega pixel. Although Redmi 10 is rocking phone.\n"
     ]
    },
    {
     "ename": "AttributeError",
     "evalue": "'NoneType' object has no attribute 'div'",
     "output_type": "error",
     "traceback": [
      "\u001b[1;31m---------------------------------------------------------------------------\u001b[0m",
      "\u001b[1;31mAttributeError\u001b[0m                            Traceback (most recent call last)",
      "Cell \u001b[1;32mIn[28], line 2\u001b[0m\n\u001b[0;32m      1\u001b[0m \u001b[38;5;28;01mfor\u001b[39;00m i \u001b[38;5;129;01min\u001b[39;00m comment_box:\n\u001b[1;32m----> 2\u001b[0m     \u001b[38;5;28mprint\u001b[39m(\u001b[43mi\u001b[49m\u001b[38;5;241;43m.\u001b[39;49m\u001b[43mdiv\u001b[49m\u001b[38;5;241;43m.\u001b[39;49m\u001b[43mdiv\u001b[49m\u001b[38;5;241m.\u001b[39mfind_all(\u001b[38;5;124m'\u001b[39m\u001b[38;5;124mdiv\u001b[39m\u001b[38;5;124m'\u001b[39m,{\u001b[38;5;124m\"\u001b[39m\u001b[38;5;124mclass\u001b[39m\u001b[38;5;124m\"\u001b[39m:\u001b[38;5;124m'\u001b[39m\u001b[38;5;124m'\u001b[39m})[\u001b[38;5;241m0\u001b[39m]\u001b[38;5;241m.\u001b[39mdiv\u001b[38;5;241m.\u001b[39mtext)\n",
      "\u001b[1;31mAttributeError\u001b[0m: 'NoneType' object has no attribute 'div'"
     ]
    }
   ],
   "source": [
    "for i in comment_box:\n",
    "    print(i.div.div.find_all('div',{\"class\":''})[0].div.text)"
   ]
  },
  {
   "cell_type": "code",
   "execution_count": 29,
   "id": "b7088175",
   "metadata": {},
   "outputs": [
    {
     "name": "stdout",
     "output_type": "stream",
     "text": [
      "https://www.flipkart.com/redmi-a1-light-blue-32-gb/p/itmae4738195e03c?pid=MOBGGYBAGFD4H23B&lid=LSTMOBGGYBAGFD4H23BT8EH5A&marketplace=FLIPKART&q=redmi&store=search.flipkart.com&srno=s_1_3&otracker=search&fm=organic&iid=098c74da-8028-4231-9c31-c39d34669462.MOBGGYBAGFD4H23B.SEARCH&ppt=None&ppn=None&ssid=yyj89p3gg00000001687365577491&qH=9b6bf0057c19bd94\n",
      "https://www.flipkart.com/redmi-a1-light-green-32-gb/p/itm7ddf6868555cf?pid=MOBGGYBA5ZHNPDQA&lid=LSTMOBGGYBA5ZHNPDQAIY89VU&marketplace=FLIPKART&q=redmi&store=search.flipkart.com&srno=s_1_4&otracker=search&fm=organic&iid=098c74da-8028-4231-9c31-c39d34669462.MOBGGYBA5ZHNPDQA.SEARCH&ppt=None&ppn=None&ssid=yyj89p3gg00000001687365577491&qH=9b6bf0057c19bd94\n",
      "https://www.flipkart.com/redmi-10-caribbean-green-128-gb/p/itm2389889c22bf0?pid=MOBGC9GYQVJHKH76&lid=LSTMOBGC9GYQVJHKH76IXAL5V&marketplace=FLIPKART&q=redmi&store=search.flipkart.com&srno=s_1_5&otracker=search&fm=organic&iid=098c74da-8028-4231-9c31-c39d34669462.MOBGC9GYQVJHKH76.SEARCH&ppt=None&ppn=None&ssid=yyj89p3gg00000001687365577491&qH=9b6bf0057c19bd94\n",
      "https://www.flipkart.com/redmi-10-sunrise-orange-64-gb/p/itmae4c7ad2665f3?pid=MOBGMPHF9TDM2MM3&lid=LSTMOBGMPHF9TDM2MM39RM7JR&marketplace=FLIPKART&q=redmi&store=search.flipkart.com&spotlightTagId=FkPickId_search.flipkart.com&srno=s_1_6&otracker=search&fm=organic&iid=098c74da-8028-4231-9c31-c39d34669462.MOBGMPHF9TDM2MM3.SEARCH&ppt=None&ppn=None&ssid=yyj89p3gg00000001687365577491&qH=9b6bf0057c19bd94\n",
      "https://www.flipkart.com/redmi-a1-light-blue-32-gb/p/itm4999515e917f6?pid=MOBGGYBAN8HMVT5P&lid=LSTMOBGGYBAN8HMVT5PYMRG3M&marketplace=FLIPKART&q=redmi&store=search.flipkart.com&srno=s_1_7&otracker=search&fm=organic&iid=098c74da-8028-4231-9c31-c39d34669462.MOBGGYBAN8HMVT5P.SEARCH&ppt=None&ppn=None&ssid=yyj89p3gg00000001687365577491&qH=9b6bf0057c19bd94\n",
      "https://www.flipkart.com/redmi-11-prime-flashy-black-64-gb/p/itm56fca6d990593?pid=MOBGZHFGHJ5KNNPN&lid=LSTMOBGZHFGHJ5KNNPNOWYRYT&marketplace=FLIPKART&q=redmi&store=search.flipkart.com&srno=s_1_8&otracker=search&fm=organic&iid=098c74da-8028-4231-9c31-c39d34669462.MOBGZHFGHJ5KNNPN.SEARCH&ppt=None&ppn=None&ssid=yyj89p3gg00000001687365577491&qH=9b6bf0057c19bd94\n",
      "https://www.flipkart.com/redmi-11-prime-peppy-purple-64-gb/p/itm6c82e6d7f5790?pid=MOBGZHFGV49WM2TC&lid=LSTMOBGZHFGV49WM2TCOOW4U6&marketplace=FLIPKART&q=redmi&store=search.flipkart.com&srno=s_1_9&otracker=search&fm=organic&iid=098c74da-8028-4231-9c31-c39d34669462.MOBGZHFGV49WM2TC.SEARCH&ppt=None&ppn=None&ssid=yyj89p3gg00000001687365577491&qH=9b6bf0057c19bd94\n",
      "https://www.flipkart.com/redmi-10-pacific-blue-128-gb/p/itmeee56f3526c69?pid=MOBGC9GYMXA2XAH4&lid=LSTMOBGC9GYMXA2XAH4QEHS0T&marketplace=FLIPKART&q=redmi&store=search.flipkart.com&srno=s_1_10&otracker=search&fm=organic&iid=098c74da-8028-4231-9c31-c39d34669462.MOBGC9GYMXA2XAH4.SEARCH&ppt=None&ppn=None&ssid=yyj89p3gg00000001687365577491&qH=9b6bf0057c19bd94\n",
      "https://www.flipkart.com/redmi-10-caribbean-green-64-gb/p/itmbfb8dfcdd6e10?pid=MOBGC9GYQGGKWEU3&lid=LSTMOBGC9GYQGGKWEU3SLBNSD&marketplace=FLIPKART&q=redmi&store=search.flipkart.com&srno=s_1_11&otracker=search&fm=organic&iid=098c74da-8028-4231-9c31-c39d34669462.MOBGC9GYQGGKWEU3.SEARCH&ppt=None&ppn=None&ssid=yyj89p3gg00000001687365577491&qH=9b6bf0057c19bd94\n",
      "https://www.flipkart.com/redmi-10000-mah-power-bank-10-w-fast-charging/p/itm22a1cbda7da7f?pid=PWBFU2HWXDJBASNG&lid=LSTPWBFU2HWXDJBASNGGRSL65&marketplace=FLIPKART&q=redmi&store=search.flipkart.com&srno=s_1_12&otracker=search&fm=organic&iid=098c74da-8028-4231-9c31-c39d34669462.PWBFU2HWXDJBASNG.SEARCH&ppt=None&ppn=None&ssid=yyj89p3gg00000001687365577491&qH=9b6bf0057c19bd94\n",
      "https://www.flipkart.com/redmi-20000-mah-power-bank-18-w-fast-charging/p/itmce0986bcfe789?pid=PWBFU2HWZGF9BEGP&lid=LSTPWBFU2HWZGF9BEGPYYEQER&marketplace=FLIPKART&q=redmi&store=search.flipkart.com&srno=s_1_13&otracker=search&fm=organic&iid=098c74da-8028-4231-9c31-c39d34669462.PWBFU2HWZGF9BEGP.SEARCH&ppt=None&ppn=None&ssid=yyj89p3gg00000001687365577491&qH=9b6bf0057c19bd94\n",
      "https://www.flipkart.com/redmi-20000-mah-power-bank-18-w-fast-charging/p/itmce0986bcfe789?pid=PWBFU2HWRYUD9HHE&lid=LSTPWBFU2HWRYUD9HHE7KCIFP&marketplace=FLIPKART&q=redmi&store=search.flipkart.com&srno=s_1_14&otracker=search&fm=organic&iid=098c74da-8028-4231-9c31-c39d34669462.PWBFU2HWRYUD9HHE.SEARCH&ppt=None&ppn=None&ssid=yyj89p3gg00000001687365577491&qH=9b6bf0057c19bd94\n",
      "https://www.flipkart.com/redmi-10000-mah-power-bank-10-w-fast-charging/p/itm22a1cbda7da7f?pid=PWBFU2HWEFEYHYX5&lid=LSTPWBFU2HWEFEYHYX55BHUE2&marketplace=FLIPKART&q=redmi&store=search.flipkart.com&srno=s_1_15&otracker=search&fm=organic&iid=098c74da-8028-4231-9c31-c39d34669462.PWBFU2HWEFEYHYX5.SEARCH&ppt=None&ppn=None&ssid=yyj89p3gg00000001687365577491&qH=9b6bf0057c19bd94\n",
      "https://www.flipkart.com/redmi-21-59cm-8-5-inch-lcd-writing-pad-smart-lock-abs-material-kids-adults/p/itm0cf80d35651cb?pid=ETYGGWZZVNRBWPDP&lid=LSTETYGGWZZVNRBWPDPKWJOBY&marketplace=FLIPKART&q=redmi&store=search.flipkart.com&srno=s_1_16&otracker=search&fm=organic&iid=098c74da-8028-4231-9c31-c39d34669462.ETYGGWZZVNRBWPDP.SEARCH&ppt=None&ppn=None&ssid=yyj89p3gg00000001687365577491&qH=9b6bf0057c19bd94\n",
      "https://www.flipkart.com/redmi-10-midnight-black-64-gb/p/itmd93641e4ebb47?pid=MOBGC9GYEBH3GZ4E&lid=LSTMOBGC9GYEBH3GZ4EZFDVZI&marketplace=FLIPKART&q=redmi&store=search.flipkart.com&srno=s_1_17&otracker=search&fm=organic&iid=098c74da-8028-4231-9c31-c39d34669462.MOBGC9GYEBH3GZ4E.SEARCH&ppt=None&ppn=None&ssid=yyj89p3gg00000001687365577491&qH=9b6bf0057c19bd94\n",
      "https://www.flipkart.com/redmi-a1-light-green-32-gb/p/itmecc9e7ba0a1df?pid=MOBGGYBAHSAJVKHP&lid=LSTMOBGGYBAHSAJVKHPLQ4OVB&marketplace=FLIPKART&q=redmi&store=search.flipkart.com&srno=s_1_18&otracker=search&fm=organic&iid=098c74da-8028-4231-9c31-c39d34669462.MOBGGYBAHSAJVKHP.SEARCH&ppt=None&ppn=None&ssid=yyj89p3gg00000001687365577491&qH=9b6bf0057c19bd94\n",
      "https://www.flipkart.com/redmi-a1-black-32-gb/p/itm70b00a77a7d1d?pid=MOBGGYBABVXHHRDQ&lid=LSTMOBGGYBABVXHHRDQTMWLXJ&marketplace=FLIPKART&q=redmi&store=search.flipkart.com&srno=s_1_19&otracker=search&fm=organic&iid=098c74da-8028-4231-9c31-c39d34669462.MOBGGYBABVXHHRDQ.SEARCH&ppt=None&ppn=None&ssid=yyj89p3gg00000001687365577491&qH=9b6bf0057c19bd94\n",
      "https://www.flipkart.com/redmi-note-12-sunrise-gold-64-gb/p/itm5d170187bcbf0?pid=MOBGNYHZ7ZGHES2V&lid=LSTMOBGNYHZ7ZGHES2VQILAET&marketplace=FLIPKART&q=redmi&store=search.flipkart.com&srno=s_1_20&otracker=search&fm=organic&iid=098c74da-8028-4231-9c31-c39d34669462.MOBGNYHZ7ZGHES2V.SEARCH&ppt=None&ppn=None&ssid=yyj89p3gg00000001687365577491&qH=9b6bf0057c19bd94\n",
      "https://www.flipkart.com/redmi-note-12-5g-frosted-green-128-gb/p/itmf01eca068b2be?pid=MOBGHNFJPXZQED9Q&lid=LSTMOBGHNFJPXZQED9QOM01NJ&marketplace=FLIPKART&q=redmi&store=search.flipkart.com&srno=s_1_21&otracker=search&fm=organic&iid=098c74da-8028-4231-9c31-c39d34669462.MOBGHNFJPXZQED9Q.SEARCH&ppt=None&ppn=None&ssid=yyj89p3gg00000001687365577491&qH=9b6bf0057c19bd94\n",
      "https://www.flipkart.com/redmi-note-12-5g-matte-black-128-gb/p/itmce9f4bcbb7fdc?pid=MOBGHNFJYJ5YNYFF&lid=LSTMOBGHNFJYJ5YNYFFJPNMHK&marketplace=FLIPKART&q=redmi&store=search.flipkart.com&srno=s_1_22&otracker=search&fm=organic&iid=098c74da-8028-4231-9c31-c39d34669462.MOBGHNFJYJ5YNYFF.SEARCH&ppt=None&ppn=None&ssid=yyj89p3gg00000001687365577491&qH=9b6bf0057c19bd94\n",
      "https://www.flipkart.com/redmi-note-12-5g-mystique-blue-128-gb/p/itmaea3f0fd78b50?pid=MOBGHNFJAST9V6XR&lid=LSTMOBGHNFJAST9V6XRMOFRBY&marketplace=FLIPKART&q=redmi&store=search.flipkart.com&srno=s_1_23&otracker=search&fm=organic&iid=098c74da-8028-4231-9c31-c39d34669462.MOBGHNFJAST9V6XR.SEARCH&ppt=None&ppn=None&ssid=yyj89p3gg00000001687365577491&qH=9b6bf0057c19bd94\n",
      "https://www.flipkart.com/redmi-note-12-5g-mystique-blue-128-gb/p/itm0dbd10c31153d?pid=MOBGHNFJHJ8N3XKT&lid=LSTMOBGHNFJHJ8N3XKTRQXS8F&marketplace=FLIPKART&q=redmi&store=search.flipkart.com&srno=s_1_24&otracker=search&fm=organic&iid=098c74da-8028-4231-9c31-c39d34669462.MOBGHNFJHJ8N3XKT.SEARCH&ppt=None&ppn=None&ssid=yyj89p3gg00000001687365577491&qH=9b6bf0057c19bd94\n"
     ]
    },
    {
     "ename": "AttributeError",
     "evalue": "'NoneType' object has no attribute 'a'",
     "output_type": "error",
     "traceback": [
      "\u001b[1;31m---------------------------------------------------------------------------\u001b[0m",
      "\u001b[1;31mAttributeError\u001b[0m                            Traceback (most recent call last)",
      "Cell \u001b[1;32mIn[29], line 2\u001b[0m\n\u001b[0;32m      1\u001b[0m \u001b[38;5;28;01mfor\u001b[39;00m i \u001b[38;5;129;01min\u001b[39;00m bigbox:\n\u001b[1;32m----> 2\u001b[0m     \u001b[38;5;28mprint\u001b[39m(\u001b[38;5;124m\"\u001b[39m\u001b[38;5;124mhttps://www.flipkart.com\u001b[39m\u001b[38;5;124m\"\u001b[39m \u001b[38;5;241m+\u001b[39m\u001b[43mi\u001b[49m\u001b[38;5;241;43m.\u001b[39;49m\u001b[43mdiv\u001b[49m\u001b[38;5;241;43m.\u001b[39;49m\u001b[43mdiv\u001b[49m\u001b[38;5;241;43m.\u001b[39;49m\u001b[43mdiv\u001b[49m\u001b[38;5;241;43m.\u001b[39;49m\u001b[43ma\u001b[49m[\u001b[38;5;124m'\u001b[39m\u001b[38;5;124mhref\u001b[39m\u001b[38;5;124m'\u001b[39m])\n",
      "\u001b[1;31mAttributeError\u001b[0m: 'NoneType' object has no attribute 'a'"
     ]
    }
   ],
   "source": [
    "for i in bigbox:\n",
    "    print(\"https://www.flipkart.com\" +i.div.div.div.a['href'])"
   ]
  },
  {
   "cell_type": "code",
   "execution_count": 30,
   "id": "91caf1bc",
   "metadata": {},
   "outputs": [
    {
     "data": {
      "text/plain": [
       "str"
      ]
     },
     "execution_count": 30,
     "metadata": {},
     "output_type": "execute_result"
    }
   ],
   "source": [
    "type(bigbox[4].div.div.div.a['href'])"
   ]
  },
  {
   "cell_type": "markdown",
   "id": "0dc90318",
   "metadata": {},
   "source": [
    "# scrappwskills details"
   ]
  },
  {
   "cell_type": "code",
   "execution_count": 31,
   "id": "2e04feb5",
   "metadata": {},
   "outputs": [],
   "source": [
    "pwurl = requests.get(\"https://pwskills.com/course/Data-Science-masters\")"
   ]
  },
  {
   "cell_type": "code",
   "execution_count": 33,
   "id": "31dbe907",
   "metadata": {},
   "outputs": [],
   "source": [
    "pwskills_html = bs(pwurl.text,'html.parser')"
   ]
  },
  {
   "cell_type": "code",
   "execution_count": 34,
   "id": "6f370c23",
   "metadata": {},
   "outputs": [
    {
     "data": {
      "text/plain": [
       "[<div class=\"Hero_course-desc__26_LL\">Data Science Masters course is highly curated and uniquely designed according to the latest industry standards. This program instills students the skills essential to knowledge discovery efforts to identify standard, novel, and truly differentiated solutions and decision-making, including skills in managing, querying, analyzing, visualizing, and extracting meaning from extremely large data sets. This trending program provides students with the statistical, mathematical and computational skills needed to meet the large-scale data science challenges of today's professional world. You will learn all the stack required to work in data science industry including cloud infrastructure and real-time industry projects. This course will be taught in Hindi language.</div>]"
      ]
     },
     "execution_count": 34,
     "metadata": {},
     "output_type": "execute_result"
    }
   ],
   "source": [
    "pwskills_html.find_all('div',{'class':'Hero_course-desc__26_LL'})"
   ]
  },
  {
   "cell_type": "code",
   "execution_count": null,
   "id": "0ca802c0",
   "metadata": {},
   "outputs": [],
   "source": []
  }
 ],
 "metadata": {
  "kernelspec": {
   "display_name": "Python 3 (ipykernel)",
   "language": "python",
   "name": "python3"
  },
  "language_info": {
   "codemirror_mode": {
    "name": "ipython",
    "version": 3
   },
   "file_extension": ".py",
   "mimetype": "text/x-python",
   "name": "python",
   "nbconvert_exporter": "python",
   "pygments_lexer": "ipython3",
   "version": "3.10.9"
  }
 },
 "nbformat": 4,
 "nbformat_minor": 5
}
