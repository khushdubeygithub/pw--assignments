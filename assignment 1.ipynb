{
 "cells": [
  {
   "cell_type": "code",
   "execution_count": 26,
   "id": "ba5db11c",
   "metadata": {},
   "outputs": [],
   "source": [
    "#Q1. Create one variable containing following type of data:\n",
    "#(i)\tstring\n",
    "#(ii)\tlist\n",
    "#(iii)\tfloat\n",
    "#(iv)\ttuple\n",
    "\n",
    " #detail_class_11th\n",
    "no_of_student = 60\n",
    "no_of_present_per_day= [40-50]\n",
    "class_teacher_name = \"rashmi\"\n",
    "average_percentage = 70.5\n",
    "T = (20 ,'jessa' , 35.75 ,  [ 30 , 50 ,90] ) # never come to school\n",
    "# 20 = average present in class , \n",
    "#35.75 = percentage in mid exam \n",
    "#[ 30 , 50 ,90] = mark of mid exam in pcm"
   ]
  },
  {
   "cell_type": "code",
   "execution_count": 32,
   "id": "a3eb3759",
   "metadata": {},
   "outputs": [
    {
     "data": {
      "text/plain": [
       "(tuple, int, list, str, float)"
      ]
     },
     "execution_count": 32,
     "metadata": {},
     "output_type": "execute_result"
    }
   ],
   "source": [
    "type(T) , type(no_of_student) , type(no_of_present_per_day) , type(class_teacher_name) , type(average_percentage)"
   ]
  },
  {
   "cell_type": "code",
   "execution_count": 33,
   "id": "22b72246",
   "metadata": {},
   "outputs": [
    {
     "ename": "SyntaxError",
     "evalue": "invalid character '‘' (U+2018) (1784233324.py, line 3)",
     "output_type": "error",
     "traceback": [
      "\u001b[1;36m  Cell \u001b[1;32mIn[33], line 3\u001b[1;36m\u001b[0m\n\u001b[1;33m    var1 = ‘ ‘\u001b[0m\n\u001b[1;37m           ^\u001b[0m\n\u001b[1;31mSyntaxError\u001b[0m\u001b[1;31m:\u001b[0m invalid character '‘' (U+2018)\n"
     ]
    }
   ],
   "source": [
    "#Q2. Given are some following variables containing data:\n",
    "\n",
    "var1 = ‘ ‘ # typ output = str\n",
    "\n",
    "var2 = ‘[ DS , ML , Python]’  # typ output = str\n",
    "\n",
    "var3 = [ ‘DS’ , ’ML’ , ‘Python’ ]  #  typ output =list\n",
    "\n",
    "var4 = 1.  # typ output = float\n",
    "\n",
    "\n",
    "#What will be the data type of the above given variabl"
   ]
  },
  {
   "cell_type": "code",
   "execution_count": 34,
   "id": "4cda9b4e",
   "metadata": {},
   "outputs": [],
   "source": [
    "var4 = 1."
   ]
  },
  {
   "cell_type": "code",
   "execution_count": 42,
   "id": "afcb399c",
   "metadata": {},
   "outputs": [
    {
     "data": {
      "text/plain": [
       "str"
      ]
     },
     "execution_count": 42,
     "metadata": {},
     "output_type": "execute_result"
    }
   ],
   "source": [
    "type(var1)"
   ]
  },
  {
   "cell_type": "code",
   "execution_count": 37,
   "id": "72d81ba2",
   "metadata": {},
   "outputs": [],
   "source": [
    "var3 = [ 'DS' , 'ML' , 'Python' ]"
   ]
  },
  {
   "cell_type": "code",
   "execution_count": 39,
   "id": "4e29ac13",
   "metadata": {},
   "outputs": [],
   "source": [
    "var2 = ' [ DS , ML , Python]'"
   ]
  },
  {
   "cell_type": "code",
   "execution_count": 41,
   "id": "ff69dd0f",
   "metadata": {},
   "outputs": [],
   "source": [
    "var1 = ''"
   ]
  },
  {
   "cell_type": "code",
   "execution_count": 43,
   "id": "0d519686",
   "metadata": {},
   "outputs": [
    {
     "name": "stdout",
     "output_type": "stream",
     "text": [
      "5.0\n",
      "1\n",
      "3\n",
      "20\n"
     ]
    }
   ],
   "source": [
    "#Q3. Explain the use of the following operators using an example: (i)\t/  (ii)\t%   (iii)\t//    (iv)\t*\n",
    "\n",
    "\n",
    "\n",
    "# Division operator\n",
    "a = 10\n",
    "b = 2\n",
    "c = a / b\n",
    "print(c) # Output: 5.0\n",
    "\n",
    "# Modulo operator\n",
    "a = 10\n",
    "b = 3\n",
    "c = a % b\n",
    "print(c) # Output: 1\n",
    "\n",
    "# Integer division operator\n",
    "a = 10\n",
    "b = 3\n",
    "c = a // b\n",
    "print(c) # Output: 3\n",
    "\n",
    "# Multiplication operator\n",
    "a = 10\n",
    "b = 2\n",
    "c = a * b\n",
    "print(c) # Output: 20\n"
   ]
  },
  {
   "cell_type": "code",
   "execution_count": 44,
   "id": "d39d1f32",
   "metadata": {},
   "outputs": [
    {
     "name": "stdout",
     "output_type": "stream",
     "text": [
      "1 is of type <class 'int'>\n",
      "hello is of type <class 'str'>\n",
      "2.5 is of type <class 'float'>\n",
      "True is of type <class 'bool'>\n",
      "[3, 4] is of type <class 'list'>\n",
      "{'name': 'John', 'age': 30} is of type <class 'dict'>\n",
      "None is of type <class 'NoneType'>\n",
      "(5+2j) is of type <class 'complex'>\n",
      "False is of type <class 'bool'>\n",
      "(6, 7) is of type <class 'tuple'>\n"
     ]
    }
   ],
   "source": [
    "# Creating a list of length 10 containing multiple types of data\n",
    "my_list = [1, 'hello', 2.5, True, [3, 4], {'name': 'John', 'age': 30}, None, 5+2j, False, (6, 7)]\n",
    "\n",
    "# Using for loop to print each element and its data type\n",
    "for element in my_list:\n",
    "    print(f\"{element} is of type {type(element)}\")\n"
   ]
  },
  {
   "cell_type": "code",
   "execution_count": 45,
   "id": "68973cc6",
   "metadata": {},
   "outputs": [
    {
     "name": "stdout",
     "output_type": "stream",
     "text": [
      "Enter the dividend: 5\n",
      "Enter the divisor: 6\n",
      "5 is not purely divisible by 6.\n"
     ]
    }
   ],
   "source": [
    "# Taking input from user\n",
    "a = int(input(\"Enter the dividend: \"))\n",
    "b = int(input(\"Enter the divisor: \"))\n",
    "\n",
    "# Initializing a counter variable to keep track of how many times a can be divided by b\n",
    "count = 0\n",
    "\n",
    "# Using a while loop to check if a is divisible by b\n",
    "while a % b == 0:\n",
    "    a = a / b\n",
    "    count += 1\n",
    "\n",
    "# Checking if a is purely divisible by b\n",
    "if a == 1:\n",
    "    print(f\"{a} is purely divisible by {b} and can be divided {count} times.\")\n",
    "else:\n",
    "    print(f\"{a} is not purely divisible by {b}.\")\n"
   ]
  },
  {
   "cell_type": "code",
   "execution_count": 46,
   "id": "51b9e8f3",
   "metadata": {},
   "outputs": [
    {
     "name": "stdout",
     "output_type": "stream",
     "text": [
      "5 is not divisible by 3\n",
      "7 is not divisible by 3\n",
      "12 is divisible by 3\n",
      "4 is not divisible by 3\n",
      "6 is divisible by 3\n",
      "18 is divisible by 3\n",
      "11 is not divisible by 3\n",
      "21 is divisible by 3\n",
      "8 is not divisible by 3\n",
      "17 is not divisible by 3\n",
      "9 is divisible by 3\n",
      "15 is divisible by 3\n",
      "2 is not divisible by 3\n",
      "1 is not divisible by 3\n",
      "20 is not divisible by 3\n",
      "14 is not divisible by 3\n",
      "16 is not divisible by 3\n",
      "10 is not divisible by 3\n",
      "3 is divisible by 3\n",
      "13 is not divisible by 3\n",
      "19 is not divisible by 3\n",
      "22 is not divisible by 3\n",
      "23 is not divisible by 3\n",
      "24 is divisible by 3\n",
      "25 is not divisible by 3\n"
     ]
    }
   ],
   "source": [
    "# Creating a list of 25 integer elements\n",
    "my_list = [5, 7, 12, 4, 6, 18, 11, 21, 8, 17, 9, 15, 2, 1, 20, 14, 16, 10, 3, 13, 19, 22, 23, 24, 25]\n",
    "\n",
    "# Using a for loop and if-else condition to check if each element is divisible by 3 or not\n",
    "for num in my_list:\n",
    "    if num % 3 == 0:\n",
    "        print(f\"{num} is divisible by 3\")\n",
    "    else:\n",
    "        print(f\"{num} is not divisible by 3\")\n"
   ]
  },
  {
   "cell_type": "code",
   "execution_count": 47,
   "id": "e81fb7f1",
   "metadata": {},
   "outputs": [
    {
     "name": "stdout",
     "output_type": "stream",
     "text": [
      "Hello\n",
      "Hello\n"
     ]
    },
    {
     "ename": "TypeError",
     "evalue": "'str' object does not support item assignment",
     "output_type": "error",
     "traceback": [
      "\u001b[1;31m---------------------------------------------------------------------------\u001b[0m",
      "\u001b[1;31mTypeError\u001b[0m                                 Traceback (most recent call last)",
      "Cell \u001b[1;32mIn[47], line 10\u001b[0m\n\u001b[0;32m      7\u001b[0m \u001b[38;5;28mprint\u001b[39m(string2)  \u001b[38;5;66;03m# Output: Hello\u001b[39;00m\n\u001b[0;32m      9\u001b[0m \u001b[38;5;66;03m# Trying to change the first character of string1\u001b[39;00m\n\u001b[1;32m---> 10\u001b[0m string1[\u001b[38;5;241m0\u001b[39m] \u001b[38;5;241m=\u001b[39m \u001b[38;5;124m\"\u001b[39m\u001b[38;5;124mh\u001b[39m\u001b[38;5;124m\"\u001b[39m\n",
      "\u001b[1;31mTypeError\u001b[0m: 'str' object does not support item assignment"
     ]
    }
   ],
   "source": [
    "#An immutable object is an object whose value cannot be changed after it is created.\n",
    "#Here is an example\n",
    "string1 = \"Hello\"\n",
    "string2 = string1\n",
    "\n",
    "print(string1)  # Output: Hello\n",
    "print(string2)  # Output: Hello\n",
    "\n",
    "# Trying to change the first character of string1\n",
    "string1[0] = \"h\"  # This will result in an error\n"
   ]
  },
  {
   "cell_type": "code",
   "execution_count": 48,
   "id": "942ee562",
   "metadata": {},
   "outputs": [
    {
     "name": "stdout",
     "output_type": "stream",
     "text": [
      "[1, 2, 3]\n",
      "[1, 2, 3]\n",
      "[1, 5, 3]\n",
      "[1, 5, 3]\n"
     ]
    }
   ],
   "source": [
    "#On the other hand, a mutable object is an object whose value can be changed after it is created\n",
    "#Here is an example\n",
    "my_list1 = [1, 2, 3]\n",
    "my_list2 = my_list1\n",
    "\n",
    "print(my_list1)  # Output: [1, 2, 3]\n",
    "print(my_list2)  # Output: [1, 2, 3]\n",
    "\n",
    "# Modifying the second element of my_list1\n",
    "my_list1[1] = 5\n",
    "\n",
    "print(my_list1)  # Output: [1, 5, 3]\n",
    "print(my_list2)  # Output: [1, 5, 3]\n"
   ]
  },
  {
   "cell_type": "code",
   "execution_count": null,
   "id": "da233181",
   "metadata": {},
   "outputs": [],
   "source": []
  },
  {
   "cell_type": "code",
   "execution_count": null,
   "id": "21e07a06",
   "metadata": {},
   "outputs": [],
   "source": []
  },
  {
   "cell_type": "code",
   "execution_count": null,
   "id": "85e8526c",
   "metadata": {},
   "outputs": [],
   "source": []
  }
 ],
 "metadata": {
  "kernelspec": {
   "display_name": "Python 3 (ipykernel)",
   "language": "python",
   "name": "python3"
  },
  "language_info": {
   "codemirror_mode": {
    "name": "ipython",
    "version": 3
   },
   "file_extension": ".py",
   "mimetype": "text/x-python",
   "name": "python",
   "nbconvert_exporter": "python",
   "pygments_lexer": "ipython3",
   "version": "3.10.9"
  }
 },
 "nbformat": 4,
 "nbformat_minor": 5
}
