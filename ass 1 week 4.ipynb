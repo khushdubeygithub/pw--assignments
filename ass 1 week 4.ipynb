{
 "cells": [
  {
   "cell_type": "markdown",
   "id": "b35ccf48",
   "metadata": {},
   "source": [
    "\n",
    "Q1, Create a vehicle class with an init method having instance variables as name_of_vehicle, max_speed \n",
    "and average_of_vehicle."
   ]
  },
  {
   "cell_type": "code",
   "execution_count": 5,
   "id": "74e4e264",
   "metadata": {},
   "outputs": [],
   "source": [
    "class vehicle:\n",
    "    def __init__(self ,vehicle_name , max_speed , average_speed):\n",
    "        self.vehicle_name = vehicle_name\n",
    "        self.max_speed = max_speed\n",
    "        self.average_speed = average_speed\n",
    "        "
   ]
  },
  {
   "cell_type": "code",
   "execution_count": 7,
   "id": "7f48f74c",
   "metadata": {},
   "outputs": [],
   "source": [
    "car = vehicle(\"Car\", 200, 100)"
   ]
  },
  {
   "cell_type": "code",
   "execution_count": 9,
   "id": "d67a7546",
   "metadata": {},
   "outputs": [
    {
     "name": "stdout",
     "output_type": "stream",
     "text": [
      "Car\n",
      "200\n",
      "100\n"
     ]
    }
   ],
   "source": [
    "print(car.vehicle_name)     # Output: Car\n",
    "print(car.max_speed)           # Output: 200\n",
    "print(car.average_speed) "
   ]
  },
  {
   "cell_type": "markdown",
   "id": "773df795",
   "metadata": {},
   "source": [
    " Q2 Create a child class car from the vehicle class created in Que 1, which will inherit the vehicle class. \n",
    "Create a method named seating_capacity which takes capacity as an argument and returns the name of \n",
    "the vehicle and its seating capacity"
   ]
  },
  {
   "cell_type": "code",
   "execution_count": 32,
   "id": "4238c0f8",
   "metadata": {},
   "outputs": [],
   "source": [
    "class vehicle:\n",
    "    def __init__(self, name_of_vehicle, max_speed, average_speed, capacity):\n",
    "        self.name_of_vehicle = name_of_vehicle\n",
    "        self.max_speed = max_speed\n",
    "        self.average_speed = average_speed\n",
    "        self.capacity = capacity\n"
   ]
  },
  {
   "cell_type": "code",
   "execution_count": 34,
   "id": "94ede1d9",
   "metadata": {},
   "outputs": [],
   "source": [
    "class car(vehicle):\n",
    "    def seating_capacity(self):\n",
    "        return f\"{self.name_of_vehicle} has a seating capacity of {self.capacity} people.\"\n"
   ]
  },
  {
   "cell_type": "code",
   "execution_count": 37,
   "id": "a4e2fd11",
   "metadata": {},
   "outputs": [
    {
     "name": "stdout",
     "output_type": "stream",
     "text": [
      "Car has a seating capacity of 4 people.\n"
     ]
    }
   ],
   "source": [
    "c = car(\"Car\", 200, 100, 4)\n",
    "print(c.seating_capacity())\n"
   ]
  },
  {
   "cell_type": "markdown",
   "id": "66242be2",
   "metadata": {},
   "source": [
    "Q3. What is multiple inheritance? Write a python code to demonstrate multiple inheritance"
   ]
  },
  {
   "cell_type": "markdown",
   "id": "049aeab0",
   "metadata": {},
   "source": [
    "ans : Multiple inheritance is a feature in object-oriented programming languages that allows a class to inherit attributes and methods from multiple parent classes. In Python, a class can inherit from multiple parent classes by specifying them in the class definition. This enables the derived class to have characteristics and behaviors from multiple sources."
   ]
  },
  {
   "cell_type": "code",
   "execution_count": 1,
   "id": "94532d4e",
   "metadata": {},
   "outputs": [],
   "source": [
    "class Parent1:\n",
    "    def method1(self):\n",
    "        print(\"This is Parent1's method1\")\n",
    "\n",
    "\n",
    "class Parent2:\n",
    "    def method2(self):\n",
    "        print(\"This is Parent2's method2\")\n",
    "\n",
    "\n",
    "class Child(Parent1, Parent2):\n",
    "    def method3(self):\n",
    "        print(\"This is Child's method3\")\n"
   ]
  },
  {
   "cell_type": "code",
   "execution_count": 2,
   "id": "3e9db9d4",
   "metadata": {},
   "outputs": [],
   "source": [
    "child = Child()"
   ]
  },
  {
   "cell_type": "code",
   "execution_count": 3,
   "id": "32e90afd",
   "metadata": {},
   "outputs": [
    {
     "name": "stdout",
     "output_type": "stream",
     "text": [
      "This is Parent1's method1\n",
      "This is Parent2's method2\n",
      "This is Child's method3\n"
     ]
    }
   ],
   "source": [
    "child.method1()  # Output: This is Parent1's method1\n",
    "child.method2()  # Output: This is Parent2's method2\n",
    "child.method3()"
   ]
  },
  {
   "cell_type": "markdown",
   "id": "eef4ceee",
   "metadata": {},
   "source": [
    " Q4 .What are getter and setter in python? Create a class and create a getter and a setter method in this \n",
    "class"
   ]
  },
  {
   "cell_type": "markdown",
   "id": "014446f7",
   "metadata": {},
   "source": [
    "getters and setters are methods that provide access to the attributes of a class in a controlled manner. They are used to get (retrieve) and set (modify) the values of private or protected attributes, encapsulating the data and providing an interface to interact with it."
   ]
  },
  {
   "cell_type": "code",
   "execution_count": 1,
   "id": "028dd33f",
   "metadata": {},
   "outputs": [
    {
     "name": "stdout",
     "output_type": "stream",
     "text": [
      "Alice\n",
      "Bob\n"
     ]
    }
   ],
   "source": [
    "class Person:\n",
    "    def __init__(self, name):\n",
    "        self._name = name  # Using a single underscore to indicate a protected attribute\n",
    "\n",
    "    def get_name(self):\n",
    "        return self._name\n",
    "\n",
    "    def set_name(self, new_name):\n",
    "        self._name = new_name\n",
    "\n",
    "\n",
    "person = Person(\"Alice\")\n",
    "print(person.get_name())  \n",
    "\n",
    "person.set_name(\"Bob\")\n",
    "print(person.get_name())  "
   ]
  },
  {
   "cell_type": "markdown",
   "id": "cc2d7e16",
   "metadata": {},
   "source": [
    ".What is method overriding in python? Write a python code to demonstrate method overriding"
   ]
  },
  {
   "cell_type": "code",
   "execution_count": 2,
   "id": "6c330f68",
   "metadata": {},
   "outputs": [
    {
     "name": "stdout",
     "output_type": "stream",
     "text": [
      "Generic animal sound\n",
      "Meow\n",
      "Woof\n"
     ]
    }
   ],
   "source": [
    "class Animal:\n",
    "    def make_sound(self):\n",
    "        print(\"Generic animal sound\")\n",
    "\n",
    "\n",
    "class Cat(Animal):\n",
    "    def make_sound(self):\n",
    "        print(\"Meow\")\n",
    "\n",
    "\n",
    "class Dog(Animal):\n",
    "    def make_sound(self):\n",
    "        print(\"Woof\")\n",
    "\n",
    "\n",
    "animal = Animal()\n",
    "animal.make_sound()  # Output: Generic animal sound\n",
    "\n",
    "cat = Cat()\n",
    "cat.make_sound()  # Output: Meow\n",
    "\n",
    "dog = Dog()\n",
    "dog.make_sound()  # Output: Woof\n"
   ]
  },
  {
   "cell_type": "code",
   "execution_count": null,
   "id": "3efc479b",
   "metadata": {},
   "outputs": [],
   "source": []
  },
  {
   "cell_type": "code",
   "execution_count": null,
   "id": "52214be8",
   "metadata": {},
   "outputs": [],
   "source": []
  },
  {
   "cell_type": "code",
   "execution_count": null,
   "id": "7d5b4e36",
   "metadata": {},
   "outputs": [],
   "source": []
  },
  {
   "cell_type": "code",
   "execution_count": null,
   "id": "0b544da5",
   "metadata": {},
   "outputs": [],
   "source": []
  },
  {
   "cell_type": "code",
   "execution_count": null,
   "id": "7162a837",
   "metadata": {},
   "outputs": [],
   "source": []
  }
 ],
 "metadata": {
  "kernelspec": {
   "display_name": "Python 3 (ipykernel)",
   "language": "python",
   "name": "python3"
  },
  "language_info": {
   "codemirror_mode": {
    "name": "ipython",
    "version": 3
   },
   "file_extension": ".py",
   "mimetype": "text/x-python",
   "name": "python",
   "nbconvert_exporter": "python",
   "pygments_lexer": "ipython3",
   "version": "3.10.9"
  }
 },
 "nbformat": 4,
 "nbformat_minor": 5
}
