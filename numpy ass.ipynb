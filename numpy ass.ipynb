{
 "cells": [
  {
   "cell_type": "markdown",
   "id": "39bf7a17",
   "metadata": {},
   "source": [
    "Q1. To check if there is any difference in the data type of variables list_ and array_list, and to print their data types:"
   ]
  },
  {
   "cell_type": "code",
   "execution_count": 1,
   "id": "9ee26eff",
   "metadata": {},
   "outputs": [
    {
     "name": "stdout",
     "output_type": "stream",
     "text": [
      "Data type of list_: <class 'list'>\n",
      "Data type of array_list: <class 'numpy.ndarray'>\n"
     ]
    }
   ],
   "source": [
    "import numpy as np\n",
    "\n",
    "list_ = ['1', '2', '3', '4', '5']\n",
    "array_list = np.array(list_)\n",
    "\n",
    "print(\"Data type of list_:\", type(list_))\n",
    "print(\"Data type of array_list:\", type(array_list))\n"
   ]
  },
  {
   "cell_type": "markdown",
   "id": "60dd73c2",
   "metadata": {},
   "source": [
    "Q2. To print the data type of each and every element of both the variables list_ and array_list"
   ]
  },
  {
   "cell_type": "code",
   "execution_count": 2,
   "id": "e42c70eb",
   "metadata": {},
   "outputs": [
    {
     "name": "stdout",
     "output_type": "stream",
     "text": [
      "Data type of element in list_: <class 'str'>\n",
      "Data type of element in list_: <class 'str'>\n",
      "Data type of element in list_: <class 'str'>\n",
      "Data type of element in list_: <class 'str'>\n",
      "Data type of element in list_: <class 'str'>\n",
      "Data type of element in array_list: <class 'numpy.str_'>\n",
      "Data type of element in array_list: <class 'numpy.str_'>\n",
      "Data type of element in array_list: <class 'numpy.str_'>\n",
      "Data type of element in array_list: <class 'numpy.str_'>\n",
      "Data type of element in array_list: <class 'numpy.str_'>\n"
     ]
    }
   ],
   "source": [
    "import numpy as np\n",
    "\n",
    "list_ = ['1', '2', '3', '4', '5']\n",
    "array_list = np.array(list_)\n",
    "\n",
    "for element in list_:\n",
    "    print(f\"Data type of element in list_: {type(element)}\")\n",
    "\n",
    "for element in array_list:\n",
    "    print(f\"Data type of element in array_list: {type(element)}\")\n"
   ]
  },
  {
   "cell_type": "markdown",
   "id": "41aa7126",
   "metadata": {},
   "source": [
    "Q3. After changing the data type of array_list to int, you can print the data types of each and every element in both variables"
   ]
  },
  {
   "cell_type": "code",
   "execution_count": 3,
   "id": "2eb347fe",
   "metadata": {},
   "outputs": [
    {
     "name": "stdout",
     "output_type": "stream",
     "text": [
      "Data type of element in list_: <class 'str'>\n",
      "Data type of element in list_: <class 'str'>\n",
      "Data type of element in list_: <class 'str'>\n",
      "Data type of element in list_: <class 'str'>\n",
      "Data type of element in list_: <class 'str'>\n",
      "Data type of element in array_list: <class 'numpy.int32'>\n",
      "Data type of element in array_list: <class 'numpy.int32'>\n",
      "Data type of element in array_list: <class 'numpy.int32'>\n",
      "Data type of element in array_list: <class 'numpy.int32'>\n",
      "Data type of element in array_list: <class 'numpy.int32'>\n"
     ]
    }
   ],
   "source": [
    "import numpy as np\n",
    "\n",
    "list_ = ['1', '2', '3', '4', '5']\n",
    "array_list = np.array(list_, dtype=int)\n",
    "\n",
    "for element in list_:\n",
    "    print(f\"Data type of element in list_: {type(element)}\")\n",
    "\n",
    "for element in array_list:\n",
    "    print(f\"Data type of element in array_list: {type(element)}\")\n"
   ]
  },
  {
   "cell_type": "markdown",
   "id": "3d10c15a",
   "metadata": {},
   "source": [
    "Q4. To find the shape and size of the variable num_array:"
   ]
  },
  {
   "cell_type": "code",
   "execution_count": 4,
   "id": "1ecd0b46",
   "metadata": {},
   "outputs": [
    {
     "name": "stdout",
     "output_type": "stream",
     "text": [
      "Shape of num_array: (2, 3)\n",
      "Size of num_array: 6\n"
     ]
    }
   ],
   "source": [
    "import numpy as np\n",
    "\n",
    "num_list = [[1, 2, 3], [4, 5, 6]]\n",
    "num_array = np.array(num_list)\n",
    "\n",
    "print(\"Shape of num_array:\", num_array.shape)\n",
    "print(\"Size of num_array:\", num_array.size)\n"
   ]
  },
  {
   "cell_type": "markdown",
   "id": "858c66d9",
   "metadata": {},
   "source": [
    "Q5. To create a 3x3 numpy array containing zeros"
   ]
  },
  {
   "cell_type": "code",
   "execution_count": 5,
   "id": "76e47c7d",
   "metadata": {},
   "outputs": [
    {
     "name": "stdout",
     "output_type": "stream",
     "text": [
      "[[0. 0. 0.]\n",
      " [0. 0. 0.]\n",
      " [0. 0. 0.]]\n"
     ]
    }
   ],
   "source": [
    "import numpy as np\n",
    "\n",
    "zeros_array = np.zeros((3, 3))\n",
    "print(zeros_array)\n"
   ]
  },
  {
   "cell_type": "markdown",
   "id": "afa29c08",
   "metadata": {},
   "source": [
    "Q6. To create a 5x5 identity matrix using numpy:"
   ]
  },
  {
   "cell_type": "code",
   "execution_count": 7,
   "id": "43a37397",
   "metadata": {},
   "outputs": [
    {
     "name": "stdout",
     "output_type": "stream",
     "text": [
      "[[1. 0. 0. 0. 0.]\n",
      " [0. 1. 0. 0. 0.]\n",
      " [0. 0. 1. 0. 0.]\n",
      " [0. 0. 0. 1. 0.]\n",
      " [0. 0. 0. 0. 1.]]\n"
     ]
    }
   ],
   "source": [
    "import numpy as np\n",
    "\n",
    "identity_matrix = np.eye(5)\n",
    "print(identity_matrix)\n"
   ]
  },
  {
   "cell_type": "code",
   "execution_count": null,
   "id": "1685cb3a",
   "metadata": {},
   "outputs": [],
   "source": []
  }
 ],
 "metadata": {
  "kernelspec": {
   "display_name": "Python 3 (ipykernel)",
   "language": "python",
   "name": "python3"
  },
  "language_info": {
   "codemirror_mode": {
    "name": "ipython",
    "version": 3
   },
   "file_extension": ".py",
   "mimetype": "text/x-python",
   "name": "python",
   "nbconvert_exporter": "python",
   "pygments_lexer": "ipython3",
   "version": "3.11.4"
  }
 },
 "nbformat": 4,
 "nbformat_minor": 5
}
