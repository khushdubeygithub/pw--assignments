{
 "cells": [
  {
   "cell_type": "markdown",
   "id": "3420f396",
   "metadata": {},
   "source": [
    "Explain GET and POST method"
   ]
  },
  {
   "cell_type": "markdown",
   "id": "6f2a2d08",
   "metadata": {},
   "source": [
    "GET and POST are HTTP methods used for sending data between a client (such as a web browser) and a server. They have different characteristics and purposes:\n",
    "\n",
    "1. GET Method:\n",
    "- The GET method is used to retrieve data from a server.\n",
    "- When a client sends a GET request, the data is appended in the URL's query parameters.\n",
    "- GET requests are typically used for retrieving information, like fetching a web page or an API resource.\n",
    "- GET requests are idempotent, meaning multiple identical requests will have the same result as a single request.\n",
    "- GET requests can be cached by the browser, allowing for faster subsequent requests.\n",
    "- Data sent through the GET method is visible in the URL, which can be a potential security concern when sensitive information is involved.\n",
    "\n",
    "2. POST Method:\n",
    "- The POST method is used to send data to a server to create or update a resource.\n",
    "- When a client sends a POST request, the data is sent in the body of the request, rather than as query parameters in the URL.\n",
    "- POST requests are typically used when submitting forms, uploading files, or performing actions that modify server-side data.\n",
    "- POST requests are not idempotent, meaning multiple identical requests may have different outcomes.\n",
    "- POST requests are not cached by default.\n",
    "- Data sent through the POST method is not visible in the URL, providing better security for sensitive information.\n",
    "\n",
    "In summary, the GET method is used for retrieving data, while the POST method is used for sending data to be processed or stored on the server. GET requests are generally used for safe and idempotent operations, while POST requests are used for non-idempotent operations that modify server-side data.\n",
    "\n",
    "It's important to use the appropriate method based on the intended operation and the sensitivity of the data being sent. Web browsers and servers differentiate between GET and POST requests, allowing them to handle the requests accordingly."
   ]
  },
  {
   "cell_type": "markdown",
   "id": "499a5ffa",
   "metadata": {},
   "source": [
    " Why is request used in Flask"
   ]
  },
  {
   "cell_type": "markdown",
   "id": "f87dbe8b",
   "metadata": {},
   "source": [
    "In Flask, the `request` object is used to handle incoming HTTP requests made by the client to the server. It provides access to the data sent by the client, such as form data, URL parameters, headers, and more. The `request` object allows Flask applications to process and respond to different types of requests in a flexible manner. Here are some common use cases for the `request` object in Flask:\n",
    "\n",
    "1. Accessing Form Data: When a client submits a form in a web page, the `request` object allows Flask to retrieve the form data. This data can be accessed using the `request.form` attribute, which provides a dictionary-like object containing the form fields and their values.\n",
    "\n",
    "2. Handling URL Parameters: The `request` object can retrieve URL parameters or query string parameters. These parameters are typically included in the URL after a question mark (`?`) and can be accessed using the `request.args` attribute, which also returns a dictionary-like object.\n",
    "\n",
    "3. Uploading Files: If a client uploads files to the server, the `request` object provides access to the uploaded files using the `request.files` attribute. This allows Flask to handle file uploads and perform operations such as saving the file to disk or processing its content.\n",
    "\n",
    "4. Accessing Request Headers: The `request` object allows Flask applications to access and utilize information from the request headers. For example, you can retrieve the user agent, content type, or authorization headers using the `request.headers` attribute.\n",
    "\n",
    "5. Handling HTTP Methods: The `request` object provides the ability to determine the HTTP method used in the request. You can access the HTTP method using the `request.method` attribute. This allows Flask applications to differentiate between GET, POST, PUT, DELETE, and other HTTP methods to perform different actions based on the request type.\n",
    "\n",
    "By utilizing the `request` object in Flask, you can retrieve and process various aspects of incoming requests, allowing your application to respond dynamically and appropriately. It enables you to handle form submissions, retrieve data from the URL, work with file uploads, access headers, and more, making Flask a versatile web framework for handling HTTP requests."
   ]
  },
  {
   "cell_type": "markdown",
   "id": "1f3a77e8",
   "metadata": {},
   "source": [
    "3. Why is redirect() used in Flask?"
   ]
  },
  {
   "cell_type": "markdown",
   "id": "79702607",
   "metadata": {},
   "source": [
    "In Flask, the `redirect()` function is used to perform a redirect to another URL or route within the application. It is commonly used when you want to redirect the user to a different page after processing a request. Here are a few reasons why the `redirect()` function is used in Flask:\n",
    "\n",
    "1. URL Redirection: The primary purpose of the `redirect()` function is to redirect the user to a different URL or route. It sends an HTTP redirect response to the client, instructing the browser to navigate to the specified URL. This is useful when you want to guide the user to a different page, such as after a successful form submission or when accessing a protected resource.\n",
    "\n",
    "2. Post-Redirect-Get Pattern: The `redirect()` function is often used in conjunction with the Post-Redirect-Get (PRG) pattern. After handling a form submission or performing a state-changing action, instead of directly rendering a response, you can redirect the user to a different route. This helps avoid duplicate form submissions when the user refreshes the page, as the redirect ensures that the subsequent request is a GET request for the redirected URL.\n",
    "\n",
    "3. Route Alias: The `redirect()` function is also useful for creating route aliases or providing friendly URLs. You can define multiple routes that perform the same action but have different URLs. By redirecting from one route to another, you can maintain a clean URL structure and provide alternative URLs for the same resource.\n",
    "\n",
    "4. Conditional Redirection: You can use the `redirect()` function to conditionally redirect users based on certain criteria. For example, you can check if a user is authenticated or has the necessary permissions before allowing access to a certain route. If the conditions are not met, you can redirect them to a login page or display an error message.\n",
    "\n",
    "Overall, the `redirect()` function in Flask allows you to control the navigation flow of your application by redirecting users to different URLs or routes. It is a powerful tool for handling URL redirection, implementing the PRG pattern, creating route aliases, and performing conditional redirection based on specific conditions."
   ]
  },
  {
   "cell_type": "markdown",
   "id": "744b2ee1",
   "metadata": {},
   "source": [
    "4. What are templates in Flask? Why is the render_template() function used"
   ]
  },
  {
   "cell_type": "code",
   "execution_count": null,
   "id": "80e51cc2",
   "metadata": {},
   "outputs": [],
   "source": [
    "from flask import Flask, render_template\n",
    "\n",
    "app = Flask(__name__)\n",
    "\n",
    "@app.route('/')\n",
    "def home():\n",
    "    name = 'John Doe'\n",
    "    return render_template('home.html', name=name)\n",
    "\n",
    "if __name__ == '__main__':\n",
    "    app.run()\n"
   ]
  },
  {
   "cell_type": "code",
   "execution_count": null,
   "id": "234b05fd",
   "metadata": {},
   "outputs": [],
   "source": [
    "<!DOCTYPE html>\n",
    "<html>\n",
    "<head>\n",
    "    <title>Home Page</title>\n",
    "</head>\n",
    "<body>\n",
    "    <h1>Welcome, {{ name }}!</h1>\n",
    "</body>\n",
    "</html>\n",
    "\n"
   ]
  },
  {
   "cell_type": "markdown",
   "id": "05e947d2",
   "metadata": {},
   "source": [
    " Create a simple API. Use Postman to test it. Attach the screenshot of the output in the Jupyter Notebook."
   ]
  },
  {
   "cell_type": "code",
   "execution_count": null,
   "id": "46997e3c",
   "metadata": {},
   "outputs": [],
   "source": [
    "from flask import Flask, jsonify, request\n",
    "\n",
    "app = Flask(__name__)\n",
    "\n",
    "# Sample data\n",
    "books = [\n",
    "    {\n",
    "        'id': 1,\n",
    "        'title': 'Python Crash Course',\n",
    "        'author': 'Eric Matthes',\n",
    "    },\n",
    "    {\n",
    "        'id': 2,\n",
    "        'title': 'Clean Code',\n",
    "        'author': 'Robert C. Martin',\n",
    "    },\n",
    "]\n",
    "\n",
    "# GET request to retrieve all books\n",
    "@app.route('/books', methods=['GET'])\n",
    "def get_books():\n",
    "    return jsonify(books)\n",
    "\n",
    "# POST request to add a new book\n",
    "@app.route('/books', methods=['POST'])\n",
    "def add_book():\n",
    "    new_book = request.get_json()\n",
    "    books.append(new_book)\n",
    "    return jsonify(new_book), 201\n",
    "\n",
    "if __name__ == '__main__':\n",
    "    app.run()\n"
   ]
  },
  {
   "cell_type": "code",
   "execution_count": null,
   "id": "47240548",
   "metadata": {},
   "outputs": [],
   "source": []
  }
 ],
 "metadata": {
  "kernelspec": {
   "display_name": "Python 3 (ipykernel)",
   "language": "python",
   "name": "python3"
  },
  "language_info": {
   "codemirror_mode": {
    "name": "ipython",
    "version": 3
   },
   "file_extension": ".py",
   "mimetype": "text/x-python",
   "name": "python",
   "nbconvert_exporter": "python",
   "pygments_lexer": "ipython3",
   "version": "3.10.9"
  }
 },
 "nbformat": 4,
 "nbformat_minor": 5
}
