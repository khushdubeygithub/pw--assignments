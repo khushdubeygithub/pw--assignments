{
 "cells": [
  {
   "cell_type": "markdown",
   "id": "2fc29eab",
   "metadata": {},
   "source": [
    "Q1. Explain Class and Object with respect to Object-Oriented Programming. Give a suitable example"
   ]
  },
  {
   "cell_type": "markdown",
   "id": "5282d3e3",
   "metadata": {},
   "source": [
    "\n",
    "In object-oriented programming (OOP), a class is a blueprint or a template that defines the attributes (data) and behaviors (methods) that an object of that class should have. It serves as a blueprint for creating individual instances of objects. A class defines the common characteristics and behaviors that the objects of that class will possess.\n",
    "\n",
    "On the other hand, an object is an instance of a class. It is a specific entity that is created based on the blueprint provided by the class. An object represents a real-world entity or concept and encapsulates data and the operations that can be performed on that data. Each object has its own state (data) and behavior (methods"
   ]
  },
  {
   "cell_type": "code",
   "execution_count": 1,
   "id": "bdbc9dae",
   "metadata": {},
   "outputs": [
    {
     "name": "stdout",
     "output_type": "stream",
     "text": [
      "Toyota\n",
      "Corolla\n",
      "Engine started.\n",
      "Engine stopped.\n"
     ]
    }
   ],
   "source": [
    "class Car:\n",
    "    def __init__(self, brand, model):\n",
    "        self.brand = brand\n",
    "        self.model = model\n",
    "\n",
    "    def start_engine(self):\n",
    "        print(\"Engine started.\")\n",
    "\n",
    "    def stop_engine(self):\n",
    "        print(\"Engine stopped.\")\n",
    "\n",
    "\n",
    "car1 = Car(\"Toyota\", \"Corolla\")  # Creating an object of the Car class\n",
    "print(car1.brand)  # Output: Toyota\n",
    "print(car1.model)  # Output: Corolla\n",
    "\n",
    "car1.start_engine()  # Output: Engine started.\n",
    "car1.stop_engine()  # Output: Engine stopped.\n"
   ]
  },
  {
   "cell_type": "markdown",
   "id": "100c0c4b",
   "metadata": {},
   "source": [
    "Q2. Name the four pillars of OOPs"
   ]
  },
  {
   "cell_type": "markdown",
   "id": "0fb2f7ef",
   "metadata": {},
   "source": [
    "Encapsulation\n",
    "\n",
    "Inheritance\n",
    "\n",
    "Polymorphism\n",
    "\n",
    "Abstraction"
   ]
  },
  {
   "cell_type": "markdown",
   "id": "e21bc030",
   "metadata": {},
   "source": [
    "Q4. Why self is used in OOPs?"
   ]
  },
  {
   "cell_type": "markdown",
   "id": "fb8d3279",
   "metadata": {},
   "source": [
    " self is a convention used to refer to the instance of a class within the class itself. It is a parameter that is implicitly passed to instance methods, indicating that the method is being called on a particular object or instance of the class. but in palce of self we can any thik foe ex`m"
   ]
  },
  {
   "cell_type": "code",
   "execution_count": 2,
   "id": "91b93a2b",
   "metadata": {},
   "outputs": [],
   "source": [
    "class pwskills2 :\n",
    "    \n",
    "    def __init__(sudh ,phone_number , email_id , student_id ):\n",
    "        sudh.phone_number1 = phone_number\n",
    "        sudh.email_id1 = email_id\n",
    "        sudh.student_id1 = student_id\n",
    "    \n",
    "    def return_student_deetials(sudh) : \n",
    "        return sudh.student_id1 ,sudh.phone_number1 ,sudh.email_id1"
   ]
  },
  {
   "cell_type": "code",
   "execution_count": 3,
   "id": "c3e12a96",
   "metadata": {},
   "outputs": [],
   "source": [
    "rohan = pwskills2(345365, \"rohan@gmail.com\" , 324)"
   ]
  },
  {
   "cell_type": "code",
   "execution_count": 4,
   "id": "1fb6cb26",
   "metadata": {},
   "outputs": [
    {
     "data": {
      "text/plain": [
       "345365"
      ]
     },
     "execution_count": 4,
     "metadata": {},
     "output_type": "execute_result"
    }
   ],
   "source": [
    "rohan.phone_number1"
   ]
  },
  {
   "cell_type": "markdown",
   "id": "3bf6feaa",
   "metadata": {},
   "source": [
    "Q3. Explain why the __init__() function is used. Give a suitable exampl"
   ]
  },
  {
   "cell_type": "markdown",
   "id": "d878f354",
   "metadata": {},
   "source": [
    "The __init__() function is a special method in Python classes that is automatically called when an object (instance) of the class is created. It is known as the constructor method because it initializes the object's attributes and performs any necessary setup or initialization tasks"
   ]
  },
  {
   "cell_type": "code",
   "execution_count": 5,
   "id": "d1053702",
   "metadata": {},
   "outputs": [
    {
     "name": "stdout",
     "output_type": "stream",
     "text": [
      "Name: Alice, Age: 25\n"
     ]
    }
   ],
   "source": [
    "class Person:\n",
    "    def __init__(self, name, age):\n",
    "        self.name = name\n",
    "        self.age = age\n",
    "\n",
    "    def display_info(self):\n",
    "        print(f\"Name: {self.name}, Age: {self.age}\")\n",
    "\n",
    "\n",
    "person1 = Person(\"Alice\", 25)\n",
    "person1.display_info()  # Output: Name: Alice, Age: 25\n"
   ]
  },
  {
   "cell_type": "markdown",
   "id": "73f20470",
   "metadata": {},
   "source": [
    "What is multiple inheritance? Write a python code to demonstrate multiple inheritance."
   ]
  },
  {
   "cell_type": "markdown",
   "id": "d7f9a836",
   "metadata": {},
   "source": [
    "\n",
    "Multiple inheritance is a feature of object-oriented programming languages that allows a class to inherit attributes and methods from multiple parent classes. In other words, a class can inherit properties and behaviors from more than one superclass."
   ]
  },
  {
   "cell_type": "code",
   "execution_count": 6,
   "id": "5fa7c33c",
   "metadata": {},
   "outputs": [
    {
     "name": "stdout",
     "output_type": "stream",
     "text": [
      "Sparrow is eating.\n",
      "Sparrow is chirping.\n",
      "Flying...\n"
     ]
    }
   ],
   "source": [
    "class Animal:\n",
    "    def __init__(self, name):\n",
    "        self.name = name\n",
    "\n",
    "    def eat(self):\n",
    "        print(f\"{self.name} is eating.\")\n",
    "\n",
    "\n",
    "class Flyable:\n",
    "    def fly(self):\n",
    "        print(\"Flying...\")\n",
    "\n",
    "\n",
    "class Bird(Animal, Flyable):\n",
    "    def __init__(self, name):\n",
    "        super().__init__(name)\n",
    "\n",
    "    def chirp(self):\n",
    "        print(f\"{self.name} is chirping.\")\n",
    "\n",
    "\n",
    "bird = Bird(\"Sparrow\")\n",
    "bird.eat()  # Inherited from Animal class\n",
    "bird.chirp()  # Defined in Bird class\n",
    "bird.fly()  # Inherited from Flyable class\n"
   ]
  },
  {
   "cell_type": "code",
   "execution_count": null,
   "id": "70553409",
   "metadata": {},
   "outputs": [],
   "source": []
  },
  {
   "cell_type": "code",
   "execution_count": null,
   "id": "7ad8c248",
   "metadata": {},
   "outputs": [],
   "source": []
  }
 ],
 "metadata": {
  "kernelspec": {
   "display_name": "Python 3 (ipykernel)",
   "language": "python",
   "name": "python3"
  },
  "language_info": {
   "codemirror_mode": {
    "name": "ipython",
    "version": 3
   },
   "file_extension": ".py",
   "mimetype": "text/x-python",
   "name": "python",
   "nbconvert_exporter": "python",
   "pygments_lexer": "ipython3",
   "version": "3.10.9"
  }
 },
 "nbformat": 4,
 "nbformat_minor": 5
}
