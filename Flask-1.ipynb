{
 "cells": [
  {
   "cell_type": "markdown",
   "id": "6bc459a9",
   "metadata": {},
   "source": [
    "Q1. What is Flask Framework? What are the advantages of Flask Framework"
   ]
  },
  {
   "cell_type": "markdown",
   "id": "8db6ce9c",
   "metadata": {},
   "source": [
    "Flask is a popular Python web framework that allows developers to build web applications quickly and efficiently. It is known for its simplicity, flexibility, and minimalistic design. Here's an explanation of Flask and its advantages:\n",
    "\n",
    "1. Lightweight and Minimalistic: Flask is designed to be lightweight and follows a minimalist approach. It provides the essential tools and features needed to build web applications without imposing unnecessary dependencies or complexities.\n",
    "\n",
    "2. Easy to Get Started: Flask has a straightforward and intuitive API, making it easy for beginners to start building web applications. Its simplicity allows developers to focus on writing code rather than dealing with boilerplate or excessive configuration.\n",
    "\n",
    "3. Flexible and Extensible: Flask allows developers to customize and extend the framework based on their specific project requirements. It follows a modular design, enabling easy integration with third-party libraries and extensions.\n",
    "\n",
    "4. Routing and URL Mapping: Flask provides a built-in routing system that allows developers to map URLs to specific functions, making it easy to define different routes and handle requests.\n",
    "\n",
    "5. Templating Engine: Flask includes a templating engine called Jinja2, which allows developers to create dynamic HTML templates and separate the presentation layer from the application logic.\n",
    "\n",
    "6. Integrated Development Server: Flask comes with a built-in development server that allows developers to run and test their applications locally without the need for additional server setup.\n",
    "\n",
    "7. Flask Extensions: Flask has a large ecosystem of extensions that provide additional functionalities for various tasks, such as database integration, user authentication, caching, form handling, and more. These extensions make it easier to add advanced features to Flask applications.\n",
    "\n",
    "8. Well-Documented: Flask has extensive and well-organized documentation, which serves as a valuable resource for developers. The documentation provides clear examples, tutorials, and explanations of Flask's features and concepts.\n",
    "\n",
    "9. Large Community and Active Development: Flask has a vibrant community of developers who actively contribute to its development, provide support, and share their experiences. This active community ensures continuous improvement, updates, and availability of resources.\n",
    "\n",
    "10. Python Integration: Flask is built with Python, leveraging its rich ecosystem of libraries and tools. It seamlessly integrates with other Python packages, making it convenient to incorporate existing Python code into Flask applications.\n",
    "\n",
    "Overall, Flask offers a balance between simplicity and flexibility, making it an excellent choice for building small to medium-sized web applications, APIs, or prototypes. Its lightweight nature, extensive documentation, and vibrant community make Flask a popular and preferred web framework among Python developers."
   ]
  },
  {
   "cell_type": "code",
   "execution_count": null,
   "id": "750e7c73",
   "metadata": {},
   "outputs": [],
   "source": [
    "Q2. Create a simple Flask application to display ‘Hello World!!’. Attach the screenshot of the output in \n",
    "Jupyter Notebook."
   ]
  },
  {
   "cell_type": "code",
   "execution_count": 1,
   "id": "91c450ec",
   "metadata": {},
   "outputs": [
    {
     "ename": "ModuleNotFoundError",
     "evalue": "No module named 'flask'",
     "output_type": "error",
     "traceback": [
      "\u001b[1;31m---------------------------------------------------------------------------\u001b[0m",
      "\u001b[1;31mModuleNotFoundError\u001b[0m                       Traceback (most recent call last)",
      "Cell \u001b[1;32mIn[1], line 1\u001b[0m\n\u001b[1;32m----> 1\u001b[0m \u001b[38;5;28;01mfrom\u001b[39;00m \u001b[38;5;21;01mflask\u001b[39;00m \u001b[38;5;28;01mimport\u001b[39;00m Flask\n\u001b[0;32m      3\u001b[0m app \u001b[38;5;241m=\u001b[39m Flask(\u001b[38;5;18m__name__\u001b[39m)\n\u001b[0;32m      5\u001b[0m \u001b[38;5;129m@app\u001b[39m\u001b[38;5;241m.\u001b[39mroute(\u001b[38;5;124m'\u001b[39m\u001b[38;5;124m/\u001b[39m\u001b[38;5;124m'\u001b[39m)\n\u001b[0;32m      6\u001b[0m \u001b[38;5;28;01mdef\u001b[39;00m \u001b[38;5;21mhello_world\u001b[39m():\n",
      "\u001b[1;31mModuleNotFoundError\u001b[0m: No module named 'flask'"
     ]
    }
   ],
   "source": [
    "from flask import Flask\n",
    "\n",
    "app = Flask(__name__)\n",
    "\n",
    "@app.route('/')\n",
    "def hello_world():\n",
    "    return 'Hello World!!'\n",
    "\n",
    "if __name__ == '__main__':\n",
    "    app.run()\n"
   ]
  },
  {
   "cell_type": "markdown",
   "id": "3d956e38",
   "metadata": {},
   "source": [
    "Q3. What is App routing in Flask? Why do we use app routes"
   ]
  },
  {
   "cell_type": "code",
   "execution_count": null,
   "id": "f5856980",
   "metadata": {},
   "outputs": [],
   "source": [
    "from flask import Flask\n",
    "\n",
    "app = Flask(__name__)\n",
    "\n",
    "@app.route('/')\n",
    "def home():\n",
    "    return 'This is the home page'\n",
    "\n",
    "@app.route('/about')\n",
    "def about():\n",
    "    return 'This is the about page'\n",
    "\n",
    "@app.route('/contact')\n",
    "def contact():\n",
    "    return 'This is the contact page'\n",
    "\n",
    "if __name__ == '__main__':\n",
    "    app.run()\n"
   ]
  },
  {
   "cell_type": "markdown",
   "id": "b77cdec8",
   "metadata": {},
   "source": [
    "4.  Create a “/welcome” route to display the welcome message “Welcome to ABC Corporation” and a “/” \n",
    "route to show the following details:\n",
    "\n",
    "    Company Name: ABC Corporation\n",
    "\n",
    "    Location: India\n",
    "\n",
    "    Contact Detail: 999-999-9999"
   ]
  },
  {
   "cell_type": "code",
   "execution_count": null,
   "id": "2c635e1d",
   "metadata": {},
   "outputs": [],
   "source": [
    "from flask import Flask\n",
    "\n",
    "app = Flask(__name__)\n",
    "\n",
    "@app.route('/welcome')\n",
    "def welcome():\n",
    "    return 'Welcome to ABC Corporation'\n",
    "\n",
    "@app.route('/')\n",
    "def company_details():\n",
    "    return '''\n",
    "    <h1>Company Details</h1>\n",
    "    <p><strong>Company Name:</strong> ABC Corporation</p>\n",
    "    <p><strong>Location:</strong> India</p>\n",
    "    <p><strong>Contact Detail:</strong> 999-999-9999</p>\n",
    "    '''\n",
    "\n",
    "if __name__ == '__main__':\n",
    "    app.run()\n",
    "\n"
   ]
  },
  {
   "cell_type": "markdown",
   "id": "a5e91942",
   "metadata": {},
   "source": [
    "5. What function is used in Flask for URL Building? Write a Python code to demonstrate the working of the \n",
    "url_for() function"
   ]
  },
  {
   "cell_type": "code",
   "execution_count": null,
   "id": "fb5567f3",
   "metadata": {},
   "outputs": [],
   "source": [
    "from flask import Flask, url_for\n",
    "\n",
    "app = Flask(__name__)\n",
    "\n",
    "@app.route('/')\n",
    "def home():\n",
    "    return 'Home Page'\n",
    "\n",
    "@app.route('/about')\n",
    "def about():\n",
    "    return 'About Page'\n",
    "\n",
    "@app.route('/contact')\n",
    "def contact():\n",
    "    return 'Contact Page'\n",
    "\n",
    "@app.route('/user/<username>')\n",
    "def profile(username):\n",
    "    return f'Profile Page of {username}'\n",
    "\n",
    "@app.route('/redirect-example')\n",
    "def redirect_example():\n",
    "    # Generate URLs using url_for()\n",
    "    home_url = url_for('home')\n",
    "    about_url = url_for('about')\n",
    "    contact_url = url_for('contact')\n",
    "    profile_url = url_for('profile', username='john')\n",
    "\n",
    "    # Return the generated URLs\n",
    "    return f'''\n",
    "    Home URL: {home_url}<br>\n",
    "    About URL: {about_url}<br>\n",
    "    Contact URL: {contact_url}<br>\n",
    "    Profile URL: {profile_url}<br>\n",
    "    '''\n",
    "\n",
    "if __name__ == '__main__':\n",
    "    app.run()\n"
   ]
  }
 ],
 "metadata": {
  "kernelspec": {
   "display_name": "Python 3 (ipykernel)",
   "language": "python",
   "name": "python3"
  },
  "language_info": {
   "codemirror_mode": {
    "name": "ipython",
    "version": 3
   },
   "file_extension": ".py",
   "mimetype": "text/x-python",
   "name": "python",
   "nbconvert_exporter": "python",
   "pygments_lexer": "ipython3",
   "version": "3.10.9"
  }
 },
 "nbformat": 4,
 "nbformat_minor": 5
}
