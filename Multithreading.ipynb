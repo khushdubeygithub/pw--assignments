{
 "cells": [
  {
   "cell_type": "markdown",
   "id": "bc041dee",
   "metadata": {},
   "source": [
    "Q1 what is multithreading in python? why is it used? Name the module used to handle threads in python"
   ]
  },
  {
   "cell_type": "markdown",
   "id": "404907a7",
   "metadata": {},
   "source": [
    "Multithreading in Python refers to the ability to execute multiple threads (smaller units of a program) concurrently within a single process. Each thread represents a separate flow of execution, allowing for parallelism and concurrent execution of tasks.\n",
    "\n",
    "Threads are useful in scenarios where you have multiple tasks that can be executed independently or concurrently. Some common use cases for multithreading in Python include:\n",
    "\n",
    "Improving performance: Multithreading can be used to execute computationally intensive or time-consuming tasks concurrently, thereby utilizing the available CPU resources more efficiently and potentially improving overall performance.\n",
    "\n",
    "Handling I/O-bound operations: When dealing with tasks that involve waiting for I/O operations (e.g., reading from or writing to files, making network requests), multithreading allows you to initiate multiple I/O operations concurrently, reducing the overall waiting time.\n",
    "\n",
    "Enhancing responsiveness: By offloading time-consuming tasks to separate threads, you can prevent the main thread (typically responsible for user interface interaction) from getting blocked, ensuring a more responsive and interactive user experience.\n",
    "\n",
    "In Python, the threading module is commonly used to handle threads. It provides a high-level interface and tools for creating and managing threads. The threading module simplifies the process of creating and synchronizing threads, allowing developers to leverage the power of multithreading in their Python applications.\n",
    "\n",
    "\n",
    "\n",
    "\n"
   ]
  },
  {
   "cell_type": "markdown",
   "id": "aae28c11",
   "metadata": {},
   "source": [
    "Q2 why threading module used? write the use of the following functions\n",
    "1. activeCount()\n",
    "2.currentThread()\n",
    "3 enumerate()"
   ]
  },
  {
   "cell_type": "code",
   "execution_count": 1,
   "id": "f17e6c38",
   "metadata": {},
   "outputs": [
    {
     "name": "stdout",
     "output_type": "stream",
     "text": [
      "Active threads: 6\n"
     ]
    },
    {
     "name": "stderr",
     "output_type": "stream",
     "text": [
      "C:\\Users\\khushi\\AppData\\Local\\Temp\\ipykernel_12308\\1527497871.py:5: DeprecationWarning: activeCount() is deprecated, use active_count() instead\n",
      "  count = threading.activeCount()\n"
     ]
    }
   ],
   "source": [
    "#activeCount()\n",
    "import threading\n",
    "\n",
    "# Get the number of active threads\n",
    "count = threading.activeCount()\n",
    "print(\"Active threads:\", count)\n"
   ]
  },
  {
   "cell_type": "code",
   "execution_count": 2,
   "id": "21b3b756",
   "metadata": {},
   "outputs": [
    {
     "name": "stdout",
     "output_type": "stream",
     "text": [
      "Current thread: <_MainThread(MainThread, started 12352)>\n"
     ]
    },
    {
     "name": "stderr",
     "output_type": "stream",
     "text": [
      "C:\\Users\\khushi\\AppData\\Local\\Temp\\ipykernel_12308\\2593265121.py:5: DeprecationWarning: currentThread() is deprecated, use current_thread() instead\n",
      "  current_thread = threading.currentThread()\n"
     ]
    }
   ],
   "source": [
    "#currentThread()\n",
    "import threading\n",
    "\n",
    "# Get the current thread\n",
    "current_thread = threading.currentThread()\n",
    "print(\"Current thread:\", current_thread)\n"
   ]
  },
  {
   "cell_type": "code",
   "execution_count": 3,
   "id": "57b8c9d6",
   "metadata": {
    "scrolled": true
   },
   "outputs": [
    {
     "name": "stdout",
     "output_type": "stream",
     "text": [
      "Thread: <_MainThread(MainThread, started 12352)>\n",
      "Thread: <Thread(IOPub, started daemon 1708)>\n",
      "Thread: <Heartbeat(Heartbeat, started daemon 1588)>\n",
      "Thread: <ControlThread(Control, started daemon 24352)>\n",
      "Thread: <HistorySavingThread(IPythonHistorySavingThread, started 20080)>\n",
      "Thread: <ParentPollerWindows(Thread-4, started daemon 24808)>\n"
     ]
    }
   ],
   "source": [
    "# enumerate():\n",
    "import threading\n",
    "\n",
    "# Enumerate all active threads\n",
    "threads = threading.enumerate()\n",
    "for thread in threads:\n",
    "    print(\"Thread:\", thread)\n"
   ]
  },
  {
   "cell_type": "markdown",
   "id": "4e9983c0",
   "metadata": {},
   "source": [
    "Q2 Explain the following functions\n",
    " run()\n",
    "start()\n",
    "join()\n",
    "isAlive()"
   ]
  },
  {
   "cell_type": "code",
   "execution_count": 4,
   "id": "5c5261f3",
   "metadata": {},
   "outputs": [
    {
     "name": "stdout",
     "output_type": "stream",
     "text": [
      "Thread is running\n"
     ]
    }
   ],
   "source": [
    "# run()\n",
    "import threading\n",
    "\n",
    "class MyThread(threading.Thread):\n",
    "    def run(self):\n",
    "        print(\"Thread is running\")\n",
    "\n",
    "# Create and start the thread\n",
    "thread = MyThread()\n",
    "thread.start()\n"
   ]
  },
  {
   "cell_type": "code",
   "execution_count": 5,
   "id": "39e37ce1",
   "metadata": {},
   "outputs": [
    {
     "name": "stdout",
     "output_type": "stream",
     "text": [
      "Thread function\n"
     ]
    }
   ],
   "source": [
    "# start()\n",
    "import threading\n",
    "\n",
    "def my_function():\n",
    "    print(\"Thread function\")\n",
    "\n",
    "# Create and start the thread\n",
    "thread = threading.Thread(target=my_function)\n",
    "thread.start()\n"
   ]
  },
  {
   "cell_type": "code",
   "execution_count": 6,
   "id": "6c07fb3e",
   "metadata": {},
   "outputs": [
    {
     "name": "stdout",
     "output_type": "stream",
     "text": [
      "Thread function\n",
      "Thread joined\n"
     ]
    }
   ],
   "source": [
    "# join()\n",
    "import threading\n",
    "\n",
    "def my_function():\n",
    "    print(\"Thread function\")\n",
    "\n",
    "# Create and start the thread\n",
    "thread = threading.Thread(target=my_function)\n",
    "thread.start()\n",
    "\n",
    "# Wait for the thread to complete\n",
    "thread.join()\n",
    "print(\"Thread joined\")\n",
    "\n"
   ]
  },
  {
   "cell_type": "code",
   "execution_count": 8,
   "id": "eb112e64",
   "metadata": {},
   "outputs": [
    {
     "ename": "AttributeError",
     "evalue": "'Thread' object has no attribute 'isAlive'",
     "output_type": "error",
     "traceback": [
      "\u001b[1;31m---------------------------------------------------------------------------\u001b[0m",
      "\u001b[1;31mAttributeError\u001b[0m                            Traceback (most recent call last)",
      "Cell \u001b[1;32mIn[8], line 12\u001b[0m\n\u001b[0;32m      9\u001b[0m thread\u001b[38;5;241m.\u001b[39mstart()\n\u001b[0;32m     11\u001b[0m \u001b[38;5;66;03m# Check if the thread is alive\u001b[39;00m\n\u001b[1;32m---> 12\u001b[0m \u001b[38;5;28mprint\u001b[39m(\u001b[38;5;124m\"\u001b[39m\u001b[38;5;124mIs thread alive?\u001b[39m\u001b[38;5;124m\"\u001b[39m, \u001b[43mthread\u001b[49m\u001b[38;5;241;43m.\u001b[39;49m\u001b[43misAlive\u001b[49m())\n",
      "\u001b[1;31mAttributeError\u001b[0m: 'Thread' object has no attribute 'isAlive'"
     ]
    }
   ],
   "source": [
    "#isAlive()\n",
    "import threading\n",
    "\n",
    "def my_function():\n",
    "    pass\n",
    "\n",
    "# Create and start the thread\n",
    "thread = threading.Thread(target=my_function)\n",
    "thread.start()\n",
    "\n",
    "# Check if the thread is alive\n",
    "print(\"Is thread alive?\", thread.isAlive())\n"
   ]
  },
  {
   "cell_type": "markdown",
   "id": "93a9a1ed",
   "metadata": {},
   "source": [
    " Q5. write a python program to create two threads. Thread one must print the list of squares and thread \n",
    "two must print the list of cubes"
   ]
  },
  {
   "cell_type": "code",
   "execution_count": 9,
   "id": "3ff18fec",
   "metadata": {},
   "outputs": [
    {
     "name": "stdout",
     "output_type": "stream",
     "text": [
      "Square:Cube: 1\n",
      "Cube: 8\n",
      "Cube: 27\n",
      "Cube: 64\n",
      "Cube: 125\n",
      " 1\n",
      "Square: 4\n",
      "Square: 9\n",
      "Square: 16\n",
      "Square: 25\n",
      "Done\n"
     ]
    }
   ],
   "source": [
    "import threading\n",
    "\n",
    "def print_squares(numbers):\n",
    "    for num in numbers:\n",
    "        print(\"Square:\", num ** 2)\n",
    "\n",
    "def print_cubes(numbers):\n",
    "    for num in numbers:\n",
    "        print(\"Cube:\", num ** 3)\n",
    "\n",
    "# Create a list of numbers\n",
    "numbers = [1, 2, 3, 4, 5]\n",
    "\n",
    "# Create the first thread for printing squares\n",
    "thread1 = threading.Thread(target=print_squares, args=(numbers,))\n",
    "\n",
    "# Create the second thread for printing cubes\n",
    "thread2 = threading.Thread(target=print_cubes, args=(numbers,))\n",
    "\n",
    "# Start both threads\n",
    "thread1.start()\n",
    "thread2.start()\n",
    "\n",
    "# Wait for both threads to finish\n",
    "thread1.join()\n",
    "thread2.join()\n",
    "\n",
    "print(\"Done\")\n"
   ]
  },
  {
   "cell_type": "markdown",
   "id": "56c21eec",
   "metadata": {},
   "source": [
    "Q5 State advantages and disadvantages of multithreading"
   ]
  },
  {
   "cell_type": "markdown",
   "id": "5375f5cb",
   "metadata": {},
   "source": [
    "Advantages of Multithreading:\n",
    "\n",
    "Improved performance and resource utilization: Multithreading allows for concurrent execution of tasks, utilizing multiple threads to execute different parts of a program simultaneously. This can lead to improved performance by making better use of available CPU resources and reducing idle time.\n",
    "\n",
    "Enhanced responsiveness and user experience: By offloading time-consuming or blocking operations to separate threads, the main thread (typically responsible for user interface interaction) remains responsive and interactive. This results in a smoother user experience, as the application can handle user input while executing tasks in the background.\n",
    "\n",
    "Efficient handling of I/O operations: Multithreading is particularlybeneficial for I/O-bound operations, such as reading from or writing to files, making network requests, or interacting with databases. While one thread waits for I/O, other threads can continue executing tasks, optimizing overall throughput.\n",
    "\n",
    "Concurrency and parallelism: Multithreading enables concurrent execution of tasks, allowing for parallelism when dealing with computationally intensive operations. This can significantly speed up the execution of certain algorithms or operations by utilizing multiple CPU cores effectively.\n",
    "\n",
    "Modular and organized code: Multithreading allows breaking down complex tasks into smaller, manageable units of execution. Each thread can handle a specific part of the task, leading to more modular and organized code, easier maintenance, and better code reusability. "
   ]
  },
  {
   "cell_type": "markdown",
   "id": "e8b14c60",
   "metadata": {},
   "source": [
    "Disadvantages of Multithreading:\n",
    "\n",
    "Complexity and potential concurrency issues: Multithreaded programs can introduce complexity due to the need for synchronization and coordination between threads. Issues like race conditions, deadlocks, and thread synchronization bugs can arise, making the code more challenging to write, debug, and maintain.\n",
    "\n",
    "Increased memory consumption: Each thread requires its own stack and resources, which can lead to increased memory consumption compared to single-threaded programs. Creating a large number of threads or threads with large stack sizes can consume significant system resources.\n",
    "\n",
    "Difficulty in debugging: Debugging multithreaded programs can be more challenging than single-threaded ones. Issues related to thread synchronization or concurrency bugs may not be easy to reproduce and diagnose. Tools and techniques specific to multithreaded debugging are required to identify and resolve such issues effectively.\n",
    "\n",
    "Potential performance degradation: Although multithreading can improve performance in many scenarios, it is not always the case. The overhead of creating and managing threads, along with synchronizationand communication between threads, can sometimes outweigh the benefits, leading to performance degradation.\n",
    "\n",
    "Platform and resource dependency: Multithreading behavior and performance can vary depending on the underlying platform, operating system, and available system resources. Code that works efficiently on one platform may not perform optimally on another platform, requiring additional effort for platform-specific optimizations.\n",
    "\n",
    "To make the most of multithreading while minimizing its disadvantages, it's crucial to carefully design and test the multithreaded code, use proper synchronization mechanisms, handle shared resources correctly, and employ debugging tools and techniques specifically designed for multithreaded environments."
   ]
  },
  {
   "cell_type": "code",
   "execution_count": null,
   "id": "451a3c1a",
   "metadata": {},
   "outputs": [],
   "source": []
  },
  {
   "cell_type": "code",
   "execution_count": null,
   "id": "70c531ef",
   "metadata": {},
   "outputs": [],
   "source": []
  },
  {
   "cell_type": "code",
   "execution_count": null,
   "id": "518c64d7",
   "metadata": {},
   "outputs": [],
   "source": []
  },
  {
   "cell_type": "code",
   "execution_count": null,
   "id": "30424db6",
   "metadata": {},
   "outputs": [],
   "source": []
  },
  {
   "cell_type": "code",
   "execution_count": null,
   "id": "b8e71813",
   "metadata": {},
   "outputs": [],
   "source": []
  },
  {
   "cell_type": "code",
   "execution_count": null,
   "id": "f9c63e9b",
   "metadata": {},
   "outputs": [],
   "source": []
  },
  {
   "cell_type": "code",
   "execution_count": null,
   "id": "565591cd",
   "metadata": {},
   "outputs": [],
   "source": []
  },
  {
   "cell_type": "code",
   "execution_count": null,
   "id": "f019f1fa",
   "metadata": {},
   "outputs": [],
   "source": []
  }
 ],
 "metadata": {
  "kernelspec": {
   "display_name": "Python 3 (ipykernel)",
   "language": "python",
   "name": "python3"
  },
  "language_info": {
   "codemirror_mode": {
    "name": "ipython",
    "version": 3
   },
   "file_extension": ".py",
   "mimetype": "text/x-python",
   "name": "python",
   "nbconvert_exporter": "python",
   "pygments_lexer": "ipython3",
   "version": "3.10.9"
  }
 },
 "nbformat": 4,
 "nbformat_minor": 5
}
