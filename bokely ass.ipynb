{
 "cells": [
  {
   "cell_type": "markdown",
   "id": "0785eacb",
   "metadata": {},
   "source": [
    "Q1 How can you create a Bokeh plot using Python code?"
   ]
  },
  {
   "cell_type": "code",
   "execution_count": 2,
   "id": "f53a39fc",
   "metadata": {},
   "outputs": [
    {
     "name": "stdout",
     "output_type": "stream",
     "text": [
      "Requirement already satisfied: bokeh in c:\\users\\khushi\\appdata\\local\\programs\\python\\python311\\lib\\site-packages (3.2.2)\n",
      "Requirement already satisfied: Jinja2>=2.9 in c:\\users\\khushi\\appdata\\local\\programs\\python\\python311\\lib\\site-packages (from bokeh) (3.1.2)\n",
      "Requirement already satisfied: contourpy>=1 in c:\\users\\khushi\\appdata\\local\\programs\\python\\python311\\lib\\site-packages (from bokeh) (1.1.0)\n",
      "Requirement already satisfied: numpy>=1.16 in c:\\users\\khushi\\appdata\\local\\programs\\python\\python311\\lib\\site-packages (from bokeh) (1.25.1)\n",
      "Requirement already satisfied: packaging>=16.8 in c:\\users\\khushi\\appdata\\local\\programs\\python\\python311\\lib\\site-packages (from bokeh) (23.1)\n",
      "Requirement already satisfied: pandas>=1.2 in c:\\users\\khushi\\appdata\\local\\programs\\python\\python311\\lib\\site-packages (from bokeh) (2.0.3)\n",
      "Requirement already satisfied: pillow>=7.1.0 in c:\\users\\khushi\\appdata\\local\\programs\\python\\python311\\lib\\site-packages (from bokeh) (10.0.0)\n",
      "Requirement already satisfied: PyYAML>=3.10 in c:\\users\\khushi\\appdata\\local\\programs\\python\\python311\\lib\\site-packages (from bokeh) (6.0)\n",
      "Requirement already satisfied: tornado>=5.1 in c:\\users\\khushi\\appdata\\local\\programs\\python\\python311\\lib\\site-packages (from bokeh) (6.3.2)\n",
      "Requirement already satisfied: xyzservices>=2021.09.1 in c:\\users\\khushi\\appdata\\local\\programs\\python\\python311\\lib\\site-packages (from bokeh) (2023.7.0)\n",
      "Requirement already satisfied: MarkupSafe>=2.0 in c:\\users\\khushi\\appdata\\local\\programs\\python\\python311\\lib\\site-packages (from Jinja2>=2.9->bokeh) (2.1.3)\n",
      "Requirement already satisfied: python-dateutil>=2.8.2 in c:\\users\\khushi\\appdata\\local\\programs\\python\\python311\\lib\\site-packages (from pandas>=1.2->bokeh) (2.8.2)\n",
      "Requirement already satisfied: pytz>=2020.1 in c:\\users\\khushi\\appdata\\local\\programs\\python\\python311\\lib\\site-packages (from pandas>=1.2->bokeh) (2023.3)\n",
      "Requirement already satisfied: tzdata>=2022.1 in c:\\users\\khushi\\appdata\\local\\programs\\python\\python311\\lib\\site-packages (from pandas>=1.2->bokeh) (2023.3)\n",
      "Requirement already satisfied: six>=1.5 in c:\\users\\khushi\\appdata\\local\\programs\\python\\python311\\lib\\site-packages (from python-dateutil>=2.8.2->pandas>=1.2->bokeh) (1.16.0)\n"
     ]
    }
   ],
   "source": [
    "!pip install bokeh\n"
   ]
  },
  {
   "cell_type": "markdown",
   "id": "19541f3e",
   "metadata": {},
   "source": [
    "Install Bokeh: If you haven't already, you can install Bokeh using pip\n",
    "    Import Bokeh: Import the necessary Bokeh modules in your Python script or Jupyter Notebook.\n",
    "\n",
    "Create a Figure: Create a Figure object, which represents the plot. You can specify various plot attributes, such as title, axis labels, and more, during this step.\n",
    "\n",
    "Add Glyphs: Add glyphs (visual elements like lines, circles, or patches) to the figure using functions like line(), circle(), or patch(). These glyphs represent the data points and their relationships.\n",
    "\n",
    "Customize Appearance: Customize the appearance of the plot, including axes, title, legend, colors, and other visual properties.\n",
    "\n",
    "Show or Save the Plot: Finally, you can either display the plot in a Jupyter Notebook or save it to an HTML file using the show() or save() function."
   ]
  },
  {
   "cell_type": "code",
   "execution_count": 3,
   "id": "960c840d",
   "metadata": {},
   "outputs": [],
   "source": [
    "from bokeh.plotting import figure, show\n",
    "\n",
    "# Create a Figure object\n",
    "p = figure(title=\"My Bokeh Plot\", x_axis_label=\"X-axis\", y_axis_label=\"Y-axis\")\n",
    "\n",
    "# Add a line glyph\n",
    "p.line([1, 2, 3, 4, 5], [6, 7, 2, 4, 8], line_width=2, legend_label=\"Line\")\n",
    "\n",
    "# Show the plot\n",
    "show(p)\n"
   ]
  },
  {
   "cell_type": "markdown",
   "id": "1cffd35b",
   "metadata": {},
   "source": [
    "Q2. What are glyphs in Bokeh, and how can you add them to a Bokeh plot? Explain with an example.\n",
    "\n",
    "In Bokeh, glyphs are the basic visual building blocks used to represent data on plots. Glyphs can be shapes like circles, squares, lines, or more complex geometries. You can add glyphs to a Bokeh plot by calling glyph-specific functions on a Figure object. For example, to add a circle glyph, you use the circle() function."
   ]
  },
  {
   "cell_type": "code",
   "execution_count": 5,
   "id": "6e79f21c",
   "metadata": {},
   "outputs": [],
   "source": [
    "from bokeh.plotting import figure, show\n",
    "\n",
    "# Create a Figure object\n",
    "p = figure(title=\"Scatter Plot Example\", x_axis_label=\"X-axis\", y_axis_label=\"Y-axis\")\n",
    "\n",
    "# Add circle glyphs\n",
    "p.circle([1, 2, 3, 4, 5], [6, 7, 2, 4, 8], size=10, color=\"blue\", legend_label=\"Circle\")\n",
    "\n",
    "# Show the plot\n",
    "show(p)\n"
   ]
  },
  {
   "cell_type": "markdown",
   "id": "4470fcbd",
   "metadata": {},
   "source": [
    "Q3. How can you customize the appearance of a Bokeh plot, including the axes, title, and legend?\n",
    "\n",
    "You can customize the appearance of a Bokeh plot by modifying various attributes of the Figure object and other plot components. Here are some common customizations:\n",
    "\n",
    "Title and Labels: You can set the plot title and axis labels using the title, x_axis_label, and y_axis_label attributes of the Figure object.\n",
    "\n",
    "Axes Properties: Customize the appearance of axes, such as ticks, tick labels, axis ranges, and scales, using attributes like x_range, y_range, x_axis_type, y_axis_type, x_minor_ticks, y_minor_ticks, and more.\n",
    "\n",
    "Legend: Add legends to the plot using the legend attribute. You can also customize the legend's position and appearance.\n",
    "\n",
    "Colors and Styles: Change the colors and styles of glyphs, lines, and markers by specifying color and line properties within glyph functions.\n",
    "\n",
    "Background and Grid: Modify background colors, grid lines, and grid visibility using attributes like background_fill_color, grid_line_color, and grid_visible."
   ]
  },
  {
   "cell_type": "code",
   "execution_count": 7,
   "id": "e6b24f37",
   "metadata": {},
   "outputs": [],
   "source": [
    "from bokeh.plotting import figure, show\n",
    "\n",
    "# Create a Figure object\n",
    "p = figure(\n",
    "    title=\"Customized Bokeh Plot\",\n",
    "    x_axis_label=\"X-axis\",\n",
    "    y_axis_label=\"Y-axis\",\n",
    "    x_range=(0, 10),\n",
    "    y_range=(0, 12),\n",
    "    background_fill_color=\"lightgray\",\n",
    ")\n",
    "\n",
    "# Customize grid lines\n",
    "p.grid.grid_line_color = \"white\"\n",
    "\n",
    "# Add a line glyph with custom color and legend label\n",
    "p.line([1, 2, 3, 4, 5], [6, 7, 2, 4, 8], line_width=2, color=\"blue\", legend_label=\"My Line\")\n",
    "\n",
    "# Add a circle glyph with custom size and color\n",
    "p.circle([2, 4, 6, 8, 10], [8, 6, 4, 7, 5], size=12, color=\"green\", legend_label=\"My Circle\")\n",
    "\n",
    "# Show the legend\n",
    "p.legend.title = \"Legend\"\n",
    "p.legend.label_text_font_size = \"12pt\"\n",
    "p.legend.location = \"top_right\"\n",
    "\n",
    "# Show the plot\n",
    "show(p)\n"
   ]
  },
  {
   "cell_type": "markdown",
   "id": "58bf14ba",
   "metadata": {},
   "source": [
    "Q4. What is a Bokeh server, and how can you use it to create interactive plots that can be updated in real time?\n",
    "\n",
    "A Bokeh server is a component of the Bokeh library that allows you to create interactive web applications with dynamic and real-time updates. With the Bokeh server, you can build interactive plots and dashboards that respond to user interactions, data changes, or external events\n",
    "To use the Bokeh server, you typically follow these steps:\n",
    "\n",
    "Define a Bokeh application: Create a Python script or module that defines a Bokeh application using Bokeh's curdoc() function. Inside the application, you can define the layout and behavior of your interactive plot or dashboard.\n",
    "\n",
    "Add interactive elements: Within your Bokeh application, you can add interactive elements like sliders, buttons, or widgets that allow users to control the plot or dashboard.\n",
    "\n",
    "Define callbacks: Attach callback functions to interactive elements. These callbacks specify how the plot or dashboard should respond to user input or changes in data.\n",
    "\n",
    "Start the Bokeh server: Run the Bokeh server using the bokeh serve command followed by the name of your Python script or module. This starts a local web server to serve your Bokeh application.\n",
    "\n",
    "Access the application: Open a web browser and navigate to the URL provided by the Bokeh server(usually something like http://localhost:5006/your_app_name). You can now interact with your dynamic Bokeh plot or dashboard."
   ]
  },
  {
   "cell_type": "markdown",
   "id": "897634dc",
   "metadata": {},
   "source": [
    "Q5. How can you embed a Bokeh plot into a web page or dashboard using Flask or Django?"
   ]
  },
  {
   "cell_type": "markdown",
   "id": "1f972e16",
   "metadata": {},
   "source": [
    "Using Flask:\n",
    "\n",
    "Create a Flask Web Application:\n",
    "\n",
    "Install Flask if you haven't already (pip install Flask).\n",
    "Create a Flask web application with a Python script.\n",
    "Generate the Bokeh Plot:\n",
    "\n",
    "Create your Bokeh plot using the Bokeh library as shown in your previous example.\n",
    "Render the Bokeh Plot in a Template:\n",
    "\n",
    "In your Flask route or view function, render a Flask template.\n",
    "Pass the Bokeh plot to the template context.\n",
    "Create a Template:\n",
    "\n",
    "Create an HTML template (e.g., using Jinja2 syntax) that will include the Bokeh plot.\n",
    "Use the {{ script|safe }} and {{ div|safe }} variables to embed the Bokeh plot in the template. These variables will be provided by Bokeh's components() function.\n",
    "Serve the Web Application:\n",
    "\n",
    "Start your Flask application, and the Bokeh plot will be embedded in the web page."
   ]
  },
  {
   "cell_type": "code",
   "execution_count": 8,
   "id": "b29ea590",
   "metadata": {},
   "outputs": [
    {
     "name": "stdout",
     "output_type": "stream",
     "text": [
      " * Serving Flask app '__main__'\n",
      " * Debug mode: on\n"
     ]
    },
    {
     "name": "stderr",
     "output_type": "stream",
     "text": [
      "WARNING: This is a development server. Do not use it in a production deployment. Use a production WSGI server instead.\n",
      " * Running on http://127.0.0.1:5000\n",
      "Press CTRL+C to quit\n",
      " * Restarting with stat\n"
     ]
    },
    {
     "ename": "SystemExit",
     "evalue": "1",
     "output_type": "error",
     "traceback": [
      "An exception has occurred, use %tb to see the full traceback.\n",
      "\u001b[1;31mSystemExit\u001b[0m\u001b[1;31m:\u001b[0m 1\n"
     ]
    },
    {
     "name": "stderr",
     "output_type": "stream",
     "text": [
      "C:\\Users\\khushi\\AppData\\Local\\Programs\\Python\\Python311\\Lib\\site-packages\\IPython\\core\\interactiveshell.py:3516: UserWarning: To exit: use 'exit', 'quit', or Ctrl-D.\n",
      "  warn(\"To exit: use 'exit', 'quit', or Ctrl-D.\", stacklevel=1)\n"
     ]
    }
   ],
   "source": [
    "from flask import Flask, render_template\n",
    "from bokeh.plotting import figure, show\n",
    "from bokeh.embed import components\n",
    "\n",
    "app = Flask(__name__)\n",
    "\n",
    "@app.route('/')\n",
    "def index():\n",
    "    # Create a Bokeh plot (as shown in your previous example)\n",
    "    p = figure(title=\"Bokeh Plot\", x_axis_label=\"X-axis\", y_axis_label=\"Y-axis\")\n",
    "    p.circle([1, 2, 3], [4, 5, 6], size=10, color=\"blue\")\n",
    "\n",
    "    # Generate Bokeh components\n",
    "    script, div = components(p)\n",
    "\n",
    "    return render_template('index.html', script=script, div=div)\n",
    "\n",
    "if __name__ == '__main__':\n",
    "    app.run(debug=True)\n"
   ]
  },
  {
   "cell_type": "markdown",
   "id": "8fa3f9db",
   "metadata": {},
   "source": [
    "Using Django:\n",
    "\n",
    "The process is similar in Django:\n",
    "\n",
    "Create a Django Project and App:\n",
    "\n",
    "Create a Django project and app if you haven't already.\n",
    "Generate the Bokeh Plot:\n",
    "\n",
    "Create your Bokeh plot using the Bokeh library.\n",
    "Render the Bokeh Plot in a Template:\n",
    "\n",
    "Create a Django view function or class-based view.\n",
    "Render a Django template and pass the Bokeh plot to the template context.\n",
    "Create a Template:\n",
    "\n",
    "Create an HTML template that will include the Bokeh plot.\n",
    "Use template tags to embed the Bokeh plot in the template.\n",
    "Configure URL Routing:\n",
    "\n",
    "Configure URL routing in Django to map a URL path to your view.\n",
    "Run the Development Server:\n",
    "\n",
    "Start the Django development server, and the Bokeh plot will be embedded in the web page.\n",
    "Here's a high-level overview of the Django approach, which is conceptually similar to the Flask approach:\n"
   ]
  },
  {
   "cell_type": "code",
   "execution_count": null,
   "id": "0ee710a5",
   "metadata": {},
   "outputs": [],
   "source": []
  },
  {
   "cell_type": "code",
   "execution_count": 9,
   "id": "a9bf3720",
   "metadata": {},
   "outputs": [
    {
     "ename": "ModuleNotFoundError",
     "evalue": "No module named 'django'",
     "output_type": "error",
     "traceback": [
      "\u001b[1;31m---------------------------------------------------------------------------\u001b[0m",
      "\u001b[1;31mModuleNotFoundError\u001b[0m                       Traceback (most recent call last)",
      "Cell \u001b[1;32mIn[9], line 3\u001b[0m\n\u001b[0;32m      1\u001b[0m \u001b[38;5;66;03m# Django views.py\u001b[39;00m\n\u001b[1;32m----> 3\u001b[0m \u001b[38;5;28;01mfrom\u001b[39;00m \u001b[38;5;21;01mdjango\u001b[39;00m\u001b[38;5;21;01m.\u001b[39;00m\u001b[38;5;21;01mshortcuts\u001b[39;00m \u001b[38;5;28;01mimport\u001b[39;00m render\n\u001b[0;32m      4\u001b[0m \u001b[38;5;28;01mfrom\u001b[39;00m \u001b[38;5;21;01mbokeh\u001b[39;00m\u001b[38;5;21;01m.\u001b[39;00m\u001b[38;5;21;01mplotting\u001b[39;00m \u001b[38;5;28;01mimport\u001b[39;00m figure, show\n\u001b[0;32m      5\u001b[0m \u001b[38;5;28;01mfrom\u001b[39;00m \u001b[38;5;21;01mbokeh\u001b[39;00m\u001b[38;5;21;01m.\u001b[39;00m\u001b[38;5;21;01membed\u001b[39;00m \u001b[38;5;28;01mimport\u001b[39;00m components\n",
      "\u001b[1;31mModuleNotFoundError\u001b[0m: No module named 'django'"
     ]
    }
   ],
   "source": [
    "# Django views.py\n",
    "\n",
    "from django.shortcuts import render\n",
    "from bokeh.plotting import figure, show\n",
    "from bokeh.embed import components\n",
    "\n",
    "def bokeh_view(request):\n",
    "    # Create a Bokeh plot (as shown in your previous example)\n",
    "    p = figure(title=\"Bokeh Plot\", x_axis_label=\"X-axis\", y_axis_label=\"Y-axis\")\n",
    "    p.circle([1, 2, 3], [4, 5, 6], size=10, color=\"blue\")\n",
    "\n",
    "    # Generate Bokeh components\n",
    "    script, div = components(p)\n",
    "\n",
    "    return render(request, 'bokeh_template.html', {'script': script, 'div': div})\n"
   ]
  },
  {
   "cell_type": "code",
   "execution_count": null,
   "id": "c6113a2b",
   "metadata": {},
   "outputs": [],
   "source": []
  }
 ],
 "metadata": {
  "kernelspec": {
   "display_name": "Python 3 (ipykernel)",
   "language": "python",
   "name": "python3"
  },
  "language_info": {
   "codemirror_mode": {
    "name": "ipython",
    "version": 3
   },
   "file_extension": ".py",
   "mimetype": "text/x-python",
   "name": "python",
   "nbconvert_exporter": "python",
   "pygments_lexer": "ipython3",
   "version": "3.11.4"
  }
 },
 "nbformat": 4,
 "nbformat_minor": 5
}
