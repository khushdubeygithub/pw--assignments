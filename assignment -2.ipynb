{
 "cells": [
  {
   "cell_type": "markdown",
   "id": "15f4f2d9",
   "metadata": {},
   "source": [
    "## Assignment-2"
   ]
  },
  {
   "cell_type": "markdown",
   "id": "c4934314",
   "metadata": {},
   "source": [
    "Q1. How do you comment code in Python? What are the different types of comments?\n",
    "\n",
    "1. Single-line comments=   # This is a single-line comment\n",
    "\n",
    "\n",
    "2. Multi-line comments = \n",
    "'''\n",
    "This is a multi-line comment or docstring.\n",
    "It can span multiple lines.\n",
    "'''\n",
    "\n"
   ]
  },
  {
   "cell_type": "markdown",
   "id": "60e34d0f",
   "metadata": {},
   "source": [
    "Q2. What are variables in Python? How do you declare and assign values to variables?\n",
    "\n",
    "\n",
    "In Python, variables are used to store data values that can be accessed and manipulated throughout the program. A variable is like a container that holds a value, and its content can change during the execution of the program.\n",
    "\n",
    "To declare a variable in Python, you simply choose a name for the variable and assign a value to it using the assignment operator (`=`). Here's the basic syntax:\n",
    "\n",
    "```python\n",
    "variable_name = value\n",
    "```\n",
    "\n",
    "For example, let's declare a variable named `message` and assign the string value `\"Hello, World!\"` to it:\n",
    "\n",
    "```python\n",
    "message = \"Hello, World!\"\n",
    "```\n",
    "\n",
    "In this case, the variable `message` is created and assigned the value `\"Hello, World!\"`. Python is dynamically typed, which means you don't need to explicitly specify the variable's type. The type is inferred based on the value assigned to it.\n",
    "\n",
    "You can also assign different types of values to a variable. For example:\n",
    "\n",
    "```python\n",
    "x = 10  # integer\n",
    "y = 3.14  # float\n",
    "is_valid = True  # boolean\n",
    "name = \"John\"  # string\n",
    "```\n",
    "\n",
    "Python supports a wide range of data types, including integers, floats, booleans, strings, lists, dictionaries, and more. The type of a variable can change dynamically as you assign different values to it.\n",
    "\n",
    "Variables in Python are case-sensitive, so `message` and `Message` would be considered different variables. It's good practice to choose meaningful and descriptive names for your variables to enhance code readability and understanding.\n",
    "\n",
    "Once a variable is declared and assigned a value, you can use its name throughout the program to access or modify the stored value. For example, you can print the value of a variable using the `print()` function:\n",
    "\n",
    "```python\n",
    "print(message)  # Output: Hello, World!\n",
    "```\n",
    "\n",
    "You can also perform operations and calculations with variables, reassign them with new values, or use them in various other ways to manipulate data in your program."
   ]
  },
  {
   "cell_type": "markdown",
   "id": "d2201a07",
   "metadata": {},
   "source": [
    "Q3. How do you convert one data type to another in Python?\n",
    "\n",
    "In Python, you can convert one data type to another using type conversion functions or methods. Here are some commonly used methods for type conversion:\n",
    "\n"
   ]
  },
  {
   "cell_type": "code",
   "execution_count": 3,
   "id": "1b75c5ad",
   "metadata": {},
   "outputs": [
    {
     "name": "stdout",
     "output_type": "stream",
     "text": [
      "10\n"
     ]
    }
   ],
   "source": [
    "#int(): This function converts a value to an integer data type. It can be used to convert numeric strings or floating-point numbers to integers. For example:\n",
    "\n",
    "num_str = \"10\"\n",
    "num_int = int(num_str)\n",
    "print(num_int)  # Output: 10\n"
   ]
  },
  {
   "cell_type": "code",
   "execution_count": 4,
   "id": "ed61f8ef",
   "metadata": {},
   "outputs": [
    {
     "name": "stdout",
     "output_type": "stream",
     "text": [
      "3.14\n"
     ]
    }
   ],
   "source": [
    "#float(): This function converts a value to a floating-point data type. It can be used to convert numeric strings or\n",
    "#integers to floats. For example:\n",
    "\n",
    "num_str = \"3.14\"\n",
    "num_float = float(num_str)\n",
    "print(num_float)  # Output: 3.14\n"
   ]
  },
  {
   "cell_type": "code",
   "execution_count": 5,
   "id": "ad9123db",
   "metadata": {},
   "outputs": [
    {
     "name": "stdout",
     "output_type": "stream",
     "text": [
      "42\n"
     ]
    }
   ],
   "source": [
    "#str(): This function converts a value to a string data type. It can be used to convert numbers or other data types to strings. For example:python\n",
    "num = 42\n",
    "num_str = str(num)\n",
    "print(num_str)  # Output: \"42\"\n"
   ]
  },
  {
   "cell_type": "code",
   "execution_count": 6,
   "id": "092412ad",
   "metadata": {},
   "outputs": [
    {
     "name": "stdout",
     "output_type": "stream",
     "text": [
      "False\n"
     ]
    }
   ],
   "source": [
    "#bool():\n",
    "num = 0\n",
    "is_valid = bool(num)\n",
    "print(is_valid)  # Output: False\n"
   ]
  },
  {
   "cell_type": "code",
   "execution_count": 7,
   "id": "8085cb13",
   "metadata": {},
   "outputs": [
    {
     "name": "stdout",
     "output_type": "stream",
     "text": [
      "['H', 'e', 'l', 'l', 'o']\n"
     ]
    }
   ],
   "source": [
    "#list(), tuple(), set(): \n",
    "my_string = \"Hello\"\n",
    "my_list = list(my_string)\n",
    "print(my_list)  # Output: ['H', 'e', 'l', 'l', 'o']\n"
   ]
  },
  {
   "cell_type": "markdown",
   "id": "a69d19b5",
   "metadata": {},
   "source": [
    "Q4. How do you write and execute a Python script from the command line?\n",
    "\n",
    "To write and execute a Python script from the command line, you can follow these steps:\n",
    "\n",
    "1. Open a text editor and create a new file. This file will contain your Python script. For example, let's create a file named `script.py`.\n",
    "\n",
    "2. Write your Python code in the text editor and save the file. For demonstration purposes, let's use a simple script that prints \"Hello, World!\" to the console:\n",
    "\n",
    "```python\n",
    "print(\"Hello, World!\")\n",
    "```\n",
    "\n",
    "3. Open a command line interface (e.g., Command Prompt on Windows or Terminal on macOS/Linux).\n",
    "\n",
    "4. Navigate to the directory where you saved the `script.py` file using the `cd` command. For example, if the file is saved on the desktop, you can use the following command:\n",
    "\n",
    "```bash\n",
    "cd Desktop\n",
    "```\n",
    "\n",
    "5. Once you are in the correct directory, you can execute the Python script by running the following command:\n",
    "\n",
    "```bash\n",
    "python script.py\n",
    "```\n",
    "\n",
    "Make sure you have Python installed on your system and the `python` command is recognized in your command line environment. If you have multiple versions of Python installed, you may need to specify the version explicitly, such as `python3` instead of `python`.\n",
    "\n",
    "6. Press Enter to execute the command. The Python script will be executed, and the output, if any, will be displayed in the command line interface. In this case, the output will be:\n",
    "\n",
    "```bash\n",
    "Hello, World!\n",
    "```\n",
    "\n",
    "That's it! You have successfully written and executed a Python script from the command line. You can modify the script in the text editor and re-run the command to see the updated output."
   ]
  },
  {
   "cell_type": "code",
   "execution_count": 8,
   "id": "2750c367",
   "metadata": {},
   "outputs": [
    {
     "name": "stdout",
     "output_type": "stream",
     "text": [
      "[2, 3]\n"
     ]
    }
   ],
   "source": [
    "#Q5. Given a list my_list = [1, 2, 3, 4, 5], write the code to slice the list and obtain the sub-list [2, 3].\n",
    "\n",
    "my_list = [1, 2, 3, 4, 5]\n",
    "sub_list = my_list[1:3]\n",
    "print(sub_list)\n",
    "\n"
   ]
  },
  {
   "cell_type": "markdown",
   "id": "3f73dcd7",
   "metadata": {},
   "source": [
    "# Q6. What is a complex number in mathematics, and how is it represented in Python?\n",
    "\n",
    "In mathematics, a complex number is a number of the form `a + bi`, where `a` and `b` are real numbers and `i` represents the imaginary unit. The imaginary unit `i` is defined as the square root of -1. Complex numbers consist of a real part (`a`) and an imaginary part (`b`), and they are often used to represent quantities involving both real and imaginary components.\n",
    "\n",
    "In Python, complex numbers are fully supported as a built-in data type. They are represented using the `complex` class, and the imaginary part is denoted by the suffix `j` or `J`. The syntax to create a complex number in Python is as follows:\n",
    "\n",
    "```python\n",
    "z = a + bj\n",
    "```\n",
    "\n",
    "Here, `a` represents the real part, and `b` represents the imaginary part. Both `a` and `b` can be integers, floating-point numbers, or expressions that evaluate to a numeric value.\n",
    "\n",
    "For example, let's create a complex number `z` with a real part of `2` and an imaginary part of `3`:\n",
    "\n",
    "```python\n",
    "z = 2 + 3j\n",
    "```\n",
    "\n",
    "In this case, `2` is the real part, and `3j` is the imaginary part. Note that the `j` suffix is used to indicate the imaginary part. You can also use parentheses for clarity when dealing with complex expressions:\n",
    "\n",
    "```python\n",
    "z = (2 + 3j) * (1 - 2j)\n",
    "```\n",
    "\n",
    "You can perform various mathematical operations with complex numbers in Python, such as addition, subtraction, multiplication, division, and more. The `complex` class provides methods and operators for these operations.\n",
    "\n",
    "For example, you can add two complex numbers together:\n",
    "\n",
    "```python\n",
    "z1 = 2 + 3j\n",
    "z2 = 1 - 2j\n",
    "result = z1 + z2\n",
    "print(result)  # Output: (3 + 1j)\n",
    "```\n",
    "\n",
    "Python's support for complex numbers makes it convenient to work with mathematical computations involving complex arithmetic and analysis."
   ]
  },
  {
   "cell_type": "markdown",
   "id": "a4a0d4f0",
   "metadata": {},
   "source": [
    "# Q7. What is the correct way to declare a variable named age and assign the value 25 to it?\n",
    "\n",
    "The correct way to declare a variable named `age` and assign the value `25` to it in Python is as follows:\n",
    "\n",
    "```python\n",
    "\n",
    "```\n",
    "\n",
    "In this code, the variable `age` is declared using the chosen name `age`, and it is assigned the value `25` using the assignment operator (`=`). The variable name `age` follows the rules for variable naming in Python, which allows the use of letters, numbers, and underscores, but it cannot start with a number.\n",
    "\n",
    "After executing this code, the variable `age` will hold the value `25`, and you can use it in subsequent code for calculations, comparisons, or any other operations as needed."
   ]
  },
  {
   "cell_type": "code",
   "execution_count": 9,
   "id": "e8b79ca3",
   "metadata": {},
   "outputs": [],
   "source": [
    "age = 25\n"
   ]
  },
  {
   "cell_type": "code",
   "execution_count": 12,
   "id": "9e019c85",
   "metadata": {},
   "outputs": [],
   "source": [
    " # Q8. Declare a variable named price and assign the value 9.99 to it. What data type does this variable belong to?\n",
    "    #If you declare a variable named price and assign the value 9.99 to it in Python, the variable price belongs to the data type float.\n",
    "\n",
    "#In Python, a value with a decimal point is considered a floating-point number, which represents real numbers. The 9.99 value is a decimal number, so it is interpreted as a floating-point value.\n",
    "#Here's an example of declaring the price variable and assigning the value 9.99 to it:\n",
    "    \n",
    "price = 9.99\n",
    "\n",
    "#After executing this code, the variable price will hold the value 9.99 as a floating-point number, allowing you to perform arithmetic operations or manipulate the value as needed for your program.\n"
   ]
  },
  {
   "cell_type": "code",
   "execution_count": 13,
   "id": "4b5f7b52",
   "metadata": {},
   "outputs": [
    {
     "name": "stdout",
     "output_type": "stream",
     "text": [
      "Your Full Name\n",
      "John Doe\n"
     ]
    }
   ],
   "source": [
    "#Q9. Create a variable named name and assign your full name to it as a string. How would you print the value of this variable?\n",
    "\n",
    "name = \"Your Full Name\"\n",
    "print(name)\n",
    "\n",
    "#example\n",
    "\n",
    "name = \"John Doe\"\n",
    "print(name)\n"
   ]
  },
  {
   "cell_type": "code",
   "execution_count": 14,
   "id": "e59f1a37",
   "metadata": {},
   "outputs": [
    {
     "name": "stdout",
     "output_type": "stream",
     "text": [
      "World\n"
     ]
    }
   ],
   "source": [
    "# Q10. Given the string \"Hello, World!\", extract the substring \"World\".\n",
    "string = \"Hello, World!\"\n",
    "substring = string[7:12]\n",
    "print(substring)\n"
   ]
  },
  {
   "cell_type": "code",
   "execution_count": 15,
   "id": "958f53b4",
   "metadata": {},
   "outputs": [],
   "source": [
    "#Q11. Create a variable named \"is_student\" and assign it a boolean value indicating whether you are currently a student or not.\n",
    "\n",
    "#To create a variable named \"is_student\" and assign it a boolean value indicating whether you are currently a student or not, you can use the following code:\n",
    "\n",
    "\n",
    "is_student = True\n",
    "\n",
    "#In this code, the variable \"is_student\" is declared and assigned the value \"True\". This indicates that you are currently a student. If you are not a student, you can assign the value \"False\" instead:\n",
    "\n",
    "\n",
    "is_student = False\n",
    "\n",
    "\n",
    "#By assigning a boolean value (either \"True\" or \"False\") to the \"is_student\" variable, you can later use it in conditional statements, perform logical operations, or check the status of your student status in your Python program."
   ]
  }
 ],
 "metadata": {
  "kernelspec": {
   "display_name": "Python 3 (ipykernel)",
   "language": "python",
   "name": "python3"
  },
  "language_info": {
   "codemirror_mode": {
    "name": "ipython",
    "version": 3
   },
   "file_extension": ".py",
   "mimetype": "text/x-python",
   "name": "python",
   "nbconvert_exporter": "python",
   "pygments_lexer": "ipython3",
   "version": "3.10.9"
  }
 },
 "nbformat": 4,
 "nbformat_minor": 5
}
